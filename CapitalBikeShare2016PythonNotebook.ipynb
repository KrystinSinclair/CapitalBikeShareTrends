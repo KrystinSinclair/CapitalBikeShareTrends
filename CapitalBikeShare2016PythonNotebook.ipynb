{
 "cells": [
  {
   "cell_type": "code",
   "execution_count": 1,
   "metadata": {
    "collapsed": true
   },
   "outputs": [],
   "source": [
    "#import\n",
    "import pandas as pd\n",
    "import matplotlib.pyplot as pp\n",
    "import numpy as np\n",
    "from datetime import datetime"
   ]
  },
  {
   "cell_type": "code",
   "execution_count": 2,
   "metadata": {
    "collapsed": true
   },
   "outputs": [],
   "source": [
    "#custom settings to make pandas output larger\n",
    "pd.set_option('display.max_rows', 6000)\n",
    "pd.set_option('display.max_columns', 300)\n",
    "pd.set_option('display.width', 150) #default is 80\n"
   ]
  },
  {
   "cell_type": "code",
   "execution_count": 3,
   "metadata": {
    "collapsed": true
   },
   "outputs": [],
   "source": [
    "#load the data\n",
    "Q12016 = pd.read_csv('2016Q1-capitalbikeshare-tripdata.csv', sep=',')\n",
    "Q22016 = pd.read_csv('2016Q2-capitalbikeshare-tripdata.csv', sep=',')\n",
    "Q32016 = pd.read_csv('2016Q3-capitalbikeshare-tripdata.csv', sep=',')\n",
    "Q42016 = pd.read_csv('2016Q4-capitalbikeshare-tripdata.csv', sep=',')\n",
    "H116 = Q12016.append(Q22016)\n",
    "H216 = Q32016.append(Q42016)\n",
    "df = H116.append(H216)\n"
   ]
  },
  {
   "cell_type": "code",
   "execution_count": 4,
   "metadata": {
    "collapsed": true
   },
   "outputs": [],
   "source": [
    "#create a count column for recording the number of trips when grouping another variable\n",
    "df['Trip count'] = 1\n"
   ]
  },
  {
   "cell_type": "code",
   "execution_count": 5,
   "metadata": {
    "collapsed": true
   },
   "outputs": [],
   "source": [
    "#convert to datetime from object\n",
    "df['Start date'] = pd.to_datetime(df['Start date'], format=\"%Y/%m/%d %H:%M:%S\")"
   ]
  },
  {
   "cell_type": "code",
   "execution_count": 6,
   "metadata": {
    "collapsed": true
   },
   "outputs": [],
   "source": [
    "#extract year\n",
    "df['Start Year'] = df['Start date'].dt.year"
   ]
  },
  {
   "cell_type": "code",
   "execution_count": 7,
   "metadata": {
    "collapsed": true
   },
   "outputs": [],
   "source": [
    "#extract month\n",
    "df['Start Month'] = df['Start date'].dt.month"
   ]
  },
  {
   "cell_type": "code",
   "execution_count": 8,
   "metadata": {
    "collapsed": true
   },
   "outputs": [],
   "source": [
    "#find day of the week\n",
    "#0-6, Sunday-Saturday\n",
    "df['StartDayofweek']=df['Start date'].dt.weekday"
   ]
  },
  {
   "cell_type": "code",
   "execution_count": 9,
   "metadata": {
    "collapsed": true
   },
   "outputs": [],
   "source": [
    "#extract hour of the day, goes from 0-23\n",
    "df['Start hour'] = df['Start date'].dt.hour"
   ]
  },
  {
   "cell_type": "code",
   "execution_count": 10,
   "metadata": {
    "collapsed": true
   },
   "outputs": [],
   "source": [
    "#extract day\n",
    "df['Start day'] = df['Start date'].dt.day"
   ]
  },
  {
   "cell_type": "code",
   "execution_count": 11,
   "metadata": {
    "collapsed": true
   },
   "outputs": [],
   "source": [
    "#extract different datemetrics for end time\n",
    "df['End date'] = pd.to_datetime(df['End date'], format=\"%Y/%m/%d %H:%M:%S\")\n",
    "#extract year\n",
    "df['End Year'] = df['End date'].dt.year\n",
    "#extract month\n",
    "df['End Month'] = df['End date'].dt.month\n",
    "#find day of the week\n",
    "#0-6, Sunday-Saturday\n",
    "df['ENDDayofweek']=df['End date'].dt.weekday\n",
    "#extract hour of the day, goes from 0-23\n",
    "df['End hour'] = df['End date'].dt.hour\n",
    "#extract day\n",
    "df['End day'] = df['End date'].dt.day\n"
   ]
  },
  {
   "cell_type": "code",
   "execution_count": 12,
   "metadata": {},
   "outputs": [
    {
     "data": {
      "text/html": [
       "<div>\n",
       "<style>\n",
       "    .dataframe thead tr:only-child th {\n",
       "        text-align: right;\n",
       "    }\n",
       "\n",
       "    .dataframe thead th {\n",
       "        text-align: left;\n",
       "    }\n",
       "\n",
       "    .dataframe tbody tr th {\n",
       "        vertical-align: top;\n",
       "    }\n",
       "</style>\n",
       "<table border=\"1\" class=\"dataframe\">\n",
       "  <thead>\n",
       "    <tr style=\"text-align: right;\">\n",
       "      <th></th>\n",
       "      <th>Duration</th>\n",
       "      <th>Start date</th>\n",
       "      <th>End date</th>\n",
       "      <th>Start station number</th>\n",
       "      <th>Start station</th>\n",
       "      <th>End station number</th>\n",
       "      <th>End station</th>\n",
       "      <th>Bike number</th>\n",
       "      <th>Member type</th>\n",
       "      <th>Trip count</th>\n",
       "      <th>Start Year</th>\n",
       "      <th>Start Month</th>\n",
       "      <th>StartDayofweek</th>\n",
       "      <th>Start hour</th>\n",
       "      <th>Start day</th>\n",
       "      <th>End Year</th>\n",
       "      <th>End Month</th>\n",
       "      <th>ENDDayofweek</th>\n",
       "      <th>End hour</th>\n",
       "      <th>End day</th>\n",
       "    </tr>\n",
       "  </thead>\n",
       "  <tbody>\n",
       "    <tr>\n",
       "      <th>0</th>\n",
       "      <td>166</td>\n",
       "      <td>2016-01-01 00:06:58</td>\n",
       "      <td>2016-01-01 00:09:44</td>\n",
       "      <td>31102</td>\n",
       "      <td>11th &amp; Kenyon St NW</td>\n",
       "      <td>31105</td>\n",
       "      <td>14th &amp; Harvard St NW</td>\n",
       "      <td>W01346</td>\n",
       "      <td>Member</td>\n",
       "      <td>1</td>\n",
       "      <td>2016</td>\n",
       "      <td>1</td>\n",
       "      <td>4</td>\n",
       "      <td>0</td>\n",
       "      <td>1</td>\n",
       "      <td>2016</td>\n",
       "      <td>1</td>\n",
       "      <td>4</td>\n",
       "      <td>0</td>\n",
       "      <td>1</td>\n",
       "    </tr>\n",
       "    <tr>\n",
       "      <th>1</th>\n",
       "      <td>448</td>\n",
       "      <td>2016-01-01 00:10:20</td>\n",
       "      <td>2016-01-01 00:17:48</td>\n",
       "      <td>32039</td>\n",
       "      <td>Old Georgetown Rd &amp; Southwick St</td>\n",
       "      <td>32002</td>\n",
       "      <td>Bethesda Ave &amp; Arlington Rd</td>\n",
       "      <td>W22202</td>\n",
       "      <td>Member</td>\n",
       "      <td>1</td>\n",
       "      <td>2016</td>\n",
       "      <td>1</td>\n",
       "      <td>4</td>\n",
       "      <td>0</td>\n",
       "      <td>1</td>\n",
       "      <td>2016</td>\n",
       "      <td>1</td>\n",
       "      <td>4</td>\n",
       "      <td>0</td>\n",
       "      <td>1</td>\n",
       "    </tr>\n",
       "    <tr>\n",
       "      <th>2</th>\n",
       "      <td>715</td>\n",
       "      <td>2016-01-01 00:13:52</td>\n",
       "      <td>2016-01-01 00:25:48</td>\n",
       "      <td>31222</td>\n",
       "      <td>New York Ave &amp; 15th St NW</td>\n",
       "      <td>31214</td>\n",
       "      <td>17th &amp; Corcoran St NW</td>\n",
       "      <td>W21427</td>\n",
       "      <td>Member</td>\n",
       "      <td>1</td>\n",
       "      <td>2016</td>\n",
       "      <td>1</td>\n",
       "      <td>4</td>\n",
       "      <td>0</td>\n",
       "      <td>1</td>\n",
       "      <td>2016</td>\n",
       "      <td>1</td>\n",
       "      <td>4</td>\n",
       "      <td>0</td>\n",
       "      <td>1</td>\n",
       "    </tr>\n",
       "    <tr>\n",
       "      <th>3</th>\n",
       "      <td>213</td>\n",
       "      <td>2016-01-01 00:15:29</td>\n",
       "      <td>2016-01-01 00:19:03</td>\n",
       "      <td>31506</td>\n",
       "      <td>1st &amp; Rhode Island Ave NW</td>\n",
       "      <td>31509</td>\n",
       "      <td>New Jersey Ave &amp; R St NW</td>\n",
       "      <td>W01294</td>\n",
       "      <td>Member</td>\n",
       "      <td>1</td>\n",
       "      <td>2016</td>\n",
       "      <td>1</td>\n",
       "      <td>4</td>\n",
       "      <td>0</td>\n",
       "      <td>1</td>\n",
       "      <td>2016</td>\n",
       "      <td>1</td>\n",
       "      <td>4</td>\n",
       "      <td>0</td>\n",
       "      <td>1</td>\n",
       "    </tr>\n",
       "    <tr>\n",
       "      <th>4</th>\n",
       "      <td>872</td>\n",
       "      <td>2016-01-01 00:16:16</td>\n",
       "      <td>2016-01-01 00:30:49</td>\n",
       "      <td>31041</td>\n",
       "      <td>Prince St &amp; Union St</td>\n",
       "      <td>31048</td>\n",
       "      <td>King St Metro South</td>\n",
       "      <td>W22058</td>\n",
       "      <td>Member</td>\n",
       "      <td>1</td>\n",
       "      <td>2016</td>\n",
       "      <td>1</td>\n",
       "      <td>4</td>\n",
       "      <td>0</td>\n",
       "      <td>1</td>\n",
       "      <td>2016</td>\n",
       "      <td>1</td>\n",
       "      <td>4</td>\n",
       "      <td>0</td>\n",
       "      <td>1</td>\n",
       "    </tr>\n",
       "  </tbody>\n",
       "</table>\n",
       "</div>"
      ],
      "text/plain": [
       "   Duration          Start date            End date  Start station number                     Start station  End station number  \\\n",
       "0       166 2016-01-01 00:06:58 2016-01-01 00:09:44                 31102               11th & Kenyon St NW               31105   \n",
       "1       448 2016-01-01 00:10:20 2016-01-01 00:17:48                 32039  Old Georgetown Rd & Southwick St               32002   \n",
       "2       715 2016-01-01 00:13:52 2016-01-01 00:25:48                 31222         New York Ave & 15th St NW               31214   \n",
       "3       213 2016-01-01 00:15:29 2016-01-01 00:19:03                 31506         1st & Rhode Island Ave NW               31509   \n",
       "4       872 2016-01-01 00:16:16 2016-01-01 00:30:49                 31041              Prince St & Union St               31048   \n",
       "\n",
       "                   End station Bike number Member type  Trip count  Start Year  Start Month  StartDayofweek  Start hour  Start day  End Year  \\\n",
       "0         14th & Harvard St NW      W01346      Member           1        2016            1               4           0          1      2016   \n",
       "1  Bethesda Ave & Arlington Rd      W22202      Member           1        2016            1               4           0          1      2016   \n",
       "2        17th & Corcoran St NW      W21427      Member           1        2016            1               4           0          1      2016   \n",
       "3     New Jersey Ave & R St NW      W01294      Member           1        2016            1               4           0          1      2016   \n",
       "4          King St Metro South      W22058      Member           1        2016            1               4           0          1      2016   \n",
       "\n",
       "   End Month  ENDDayofweek  End hour  End day  \n",
       "0          1             4         0        1  \n",
       "1          1             4         0        1  \n",
       "2          1             4         0        1  \n",
       "3          1             4         0        1  \n",
       "4          1             4         0        1  "
      ]
     },
     "execution_count": 12,
     "metadata": {},
     "output_type": "execute_result"
    }
   ],
   "source": [
    "df.head(5)"
   ]
  },
  {
   "cell_type": "code",
   "execution_count": 13,
   "metadata": {},
   "outputs": [
    {
     "data": {
      "text/plain": [
       "Duration                         int64\n",
       "Start date              datetime64[ns]\n",
       "End date                datetime64[ns]\n",
       "Start station number             int64\n",
       "Start station                   object\n",
       "End station number               int64\n",
       "End station                     object\n",
       "Bike number                     object\n",
       "Member type                     object\n",
       "Trip count                       int64\n",
       "Start Year                       int64\n",
       "Start Month                      int64\n",
       "StartDayofweek                   int64\n",
       "Start hour                       int64\n",
       "Start day                        int64\n",
       "End Year                         int64\n",
       "End Month                        int64\n",
       "ENDDayofweek                     int64\n",
       "End hour                         int64\n",
       "End day                          int64\n",
       "dtype: object"
      ]
     },
     "execution_count": 13,
     "metadata": {},
     "output_type": "execute_result"
    }
   ],
   "source": [
    "#show data types\n",
    "df.dtypes"
   ]
  },
  {
   "cell_type": "code",
   "execution_count": 14,
   "metadata": {},
   "outputs": [
    {
     "data": {
      "text/plain": [
       "3333994"
      ]
     },
     "execution_count": 14,
     "metadata": {},
     "output_type": "execute_result"
    }
   ],
   "source": [
    "#number of observations\n",
    "len(df.index)"
   ]
  },
  {
   "cell_type": "code",
   "execution_count": 15,
   "metadata": {},
   "outputs": [
    {
     "data": {
      "text/plain": [
       "(3333994, 20)"
      ]
     },
     "execution_count": 15,
     "metadata": {},
     "output_type": "execute_result"
    }
   ],
   "source": [
    "#identify shape of dataframe\n",
    "df.shape"
   ]
  },
  {
   "cell_type": "code",
   "execution_count": 16,
   "metadata": {},
   "outputs": [
    {
     "name": "stderr",
     "output_type": "stream",
     "text": [
      "C:\\Anaconda3\\lib\\site-packages\\ipykernel_launcher.py:4: DeprecationWarning: \n",
      ".ix is deprecated. Please use\n",
      ".loc for label based indexing or\n",
      ".iloc for positional indexing\n",
      "\n",
      "See the documentation here:\n",
      "http://pandas.pydata.org/pandas-docs/stable/indexing.html#deprecate_ix\n",
      "  after removing the cwd from sys.path.\n"
     ]
    },
    {
     "data": {
      "image/png": "[encoded data removed]",
      "text/plain": [
       "<matplotlib.figure.Figure at 0x9402be0>"
      ]
     },
     "metadata": {},
     "output_type": "display_data"
    }
   ],
   "source": [
    "#grouping the original data frame by member type and then summing other columns for each member type\n",
    "membertype = df.groupby(['Member type']).sum()\n",
    "#calculate the number of trips from members and pass to variable data\n",
    "data = pd.Series(membertype.ix[['Member'],['Trip count']])\n",
    "\n",
    "#calculate the percentage of trips from members commpared to casual\n",
    "#chart it using a pie chart\n",
    "\n",
    "pp.figure(figsize=(5,5))\n",
    "sizes = [data, (df['Trip count']).sum()-data]\n",
    "labels = ['Members', 'Casual']\n",
    "colors = ['Green', 'Red']\n",
    "pp.pie(sizes, colors=colors, autopct='%.0f%%', shadow=True, startangle = 140)\n",
    "pp.legend(labels)\n",
    "pp.show()\n",
    "\n"
   ]
  },
  {
   "cell_type": "code",
   "execution_count": 17,
   "metadata": {},
   "outputs": [
    {
     "data": {
      "image/png": "[encoded data removed]",
      "text/plain": [
       "<matplotlib.figure.Figure at 0x36d40b00>"
      ]
     },
     "metadata": {},
     "output_type": "display_data"
    }
   ],
   "source": [
    "#see which stations are popular\n",
    "endstations = df.groupby(['End station']).sum()\n",
    "endstation = endstations.drop(['Duration', 'Start station number', 'Start Year', 'End station number', 'End hour', 'Start day', 'Start hour', 'End day', 'ENDDayofweek', 'Start Month', 'StartDayofweek','End Year', 'End Month', 'StartDayofweek'], axis=1)\n",
    "#subset down to top stations\n",
    "subset = endstation.sort_values(by='Trip count',ascending=False).head(15)\n",
    "#get bar graph of all Start Stations\n",
    "subset.plot(kind='bar', figsize=(10,6), stacked=False, title=' End Stations')\n",
    "pp.show()\n"
   ]
  },
  {
   "cell_type": "code",
   "execution_count": 18,
   "metadata": {},
   "outputs": [
    {
     "data": {
      "image/png": "[encoded data removed]",
      "text/plain": [
       "<matplotlib.figure.Figure at 0xad94748>"
      ]
     },
     "metadata": {},
     "output_type": "display_data"
    }
   ],
   "source": [
    "#see which stations are popular\n",
    "startstations = df.groupby(['Start station']).sum()\n",
    "startstation = startstations.drop(['Duration', 'Start station number', 'Start Year', 'End station number', 'End hour', 'Start day', 'Start hour', 'End day', 'ENDDayofweek', 'Start Month', 'StartDayofweek','End Year', 'End Month', 'StartDayofweek'], axis=1)\n",
    "#subset down to top stations\n",
    "subset = startstation.sort_values(by='Trip count',ascending=False).head(15)\n",
    "#get bar graph of all Start Stations\n",
    "subset.plot(kind='bar', figsize=(10,6), stacked=False, title=' Start Stations')\n",
    "pp.show()\n"
   ]
  },
  {
   "cell_type": "code",
   "execution_count": 19,
   "metadata": {},
   "outputs": [
    {
     "data": {
      "image/png": "[encoded data removed]",
      "text/plain": [
       "<matplotlib.figure.Figure at 0x1e38bef0>"
      ]
     },
     "metadata": {},
     "output_type": "display_data"
    }
   ],
   "source": [
    "#see which months have most trips\n",
    "startmonthss = df.groupby('Start Month').sum()\n",
    "startmonthss = startmonthss.drop(['Duration', 'Start station number', 'End station number', 'Start day', 'End day', 'Start Year', 'StartDayofweek', 'Start hour', 'End Year', 'End Month', 'ENDDayofweek', 'End hour'], axis=1)\n",
    "#get bar graph of all Start Stations\n",
    "startmonthss.plot(kind='bar', figsize=(10,6), stacked=False, title='Months 2016')\n",
    "pp.show()\n"
   ]
  },
  {
   "cell_type": "code",
   "execution_count": 20,
   "metadata": {},
   "outputs": [
    {
     "data": {
      "image/png": "[encoded data removed]",
      "text/plain": [
       "<matplotlib.figure.Figure at 0x1e3e5748>"
      ]
     },
     "metadata": {},
     "output_type": "display_data"
    }
   ],
   "source": [
    "#see which months have most trips\n",
    "endmonthss = df.groupby('End Month').sum()\n",
    "endmonthss = endmonthss.drop(['Duration', 'Start station number', 'End station number', 'Start day', 'End day', 'Start Year', 'StartDayofweek', 'Start hour', 'End Year', 'Start Month', 'ENDDayofweek', 'End hour'], axis=1)\n",
    "#get bar graph of all Start Stations\n",
    "endmonthss.plot(kind='bar', figsize=(10,6), stacked=False, title=' End Months 2016')\n",
    "pp.show()\n"
   ]
  },
  {
   "cell_type": "code",
   "execution_count": 21,
   "metadata": {},
   "outputs": [
    {
     "data": {
      "image/png": "[encoded data removed]",
      "text/plain": [
       "<matplotlib.figure.Figure at 0x2cfad320>"
      ]
     },
     "metadata": {},
     "output_type": "display_data"
    }
   ],
   "source": [
    "#see which day of the week have most trips\n",
    "startdayss = df.groupby('StartDayofweek').sum()\n",
    "startdayss = startdayss.drop(['Duration', 'Start station number', 'End station number', 'Start day', 'End day', 'Start Year', 'Start Month', 'Start hour', 'End Year', 'End Month', 'ENDDayofweek', 'End hour'], axis=1)\n",
    "#get bar graph of all Start Stations\n",
    "startdayss.plot(kind='bar', figsize=(10,6), stacked=False, title='Week day 2016')\n",
    "pp.show()\n"
   ]
  },
  {
   "cell_type": "code",
   "execution_count": 22,
   "metadata": {},
   "outputs": [
    {
     "data": {
      "image/png": "[encoded data removed]",
      "text/plain": [
       "<matplotlib.figure.Figure at 0x4781668>"
      ]
     },
     "metadata": {},
     "output_type": "display_data"
    }
   ],
   "source": [
    "#see which day of the week have most trips\n",
    "enddayss = df.groupby('ENDDayofweek').sum()\n",
    "enddayss = enddayss.drop(['Duration', 'Start station number', 'End station number', 'Start day', 'End day', 'Start Year', 'Start Month', 'Start hour', 'End Year', 'End Month', 'StartDayofweek', 'End hour'], axis=1)\n",
    "#get bar graph of all Start Stations\n",
    "enddayss.plot(kind='bar', figsize=(10,6), stacked=False, title='Week day 2016')\n",
    "pp.show()\n"
   ]
  },
  {
   "cell_type": "code",
   "execution_count": 23,
   "metadata": {},
   "outputs": [
    {
     "data": {
      "image/png": "[encoded data removed]",
      "text/plain": [
       "<matplotlib.figure.Figure at 0x392b75f8>"
      ]
     },
     "metadata": {},
     "output_type": "display_data"
    }
   ],
   "source": [
    "#see which hour of the week have most trips\n",
    "starthourss = df.groupby('Start hour').sum()\n",
    "starthourss = starthourss.drop(['Duration', 'Start station number', 'Start day', 'End day', 'End station number', 'Start Year', 'Start Month', 'ENDDayofweek','End Year', 'End Month', 'StartDayofweek', 'End hour'], axis=1)\n",
    "#get bar graph of all Start Stations\n",
    "starthourss.plot(kind='bar', figsize=(10,6), stacked=False, title='Hours 2016')\n",
    "pp.show()\n"
   ]
  },
  {
   "cell_type": "code",
   "execution_count": 24,
   "metadata": {},
   "outputs": [
    {
     "data": {
      "image/png": "[encoded data removed]",
      "text/plain": [
       "<matplotlib.figure.Figure at 0x2d091390>"
      ]
     },
     "metadata": {},
     "output_type": "display_data"
    }
   ],
   "source": [
    "#see which hour of the week have most trips\n",
    "endhourss = df.groupby('End hour').sum()\n",
    "endhourss = endhourss.drop(['Duration', 'Start station number', 'End station number', 'Start day', 'End day', 'Start Year', 'Start hour', 'ENDDayofweek', 'Start Month', 'StartDayofweek','End Year', 'End Month', 'StartDayofweek'], axis=1)\n",
    "#get bar graph of all End hour\n",
    "endhourss.plot(kind='bar', figsize=(10,6), stacked=False, title='Hours 2016')\n",
    "pp.show()\n"
   ]
  },
  {
   "cell_type": "code",
   "execution_count": 25,
   "metadata": {},
   "outputs": [
    {
     "data": {
      "image/png": "[encoded data removed]",
      "text/plain": [
       "<matplotlib.figure.Figure at 0x1e4cdb38>"
      ]
     },
     "metadata": {},
     "output_type": "display_data"
    }
   ],
   "source": [
    "#see which day of the month have most trips\n",
    "startdayss = df.groupby('Start day').sum()\n",
    "startdayss = startdayss.drop(['Duration', 'Start station number', 'End station number', 'End hour', 'End day', 'Start Year', 'Start hour', 'ENDDayofweek', 'Start Month', 'StartDayofweek','End Year', 'End Month', 'StartDayofweek'], axis=1)\n",
    "#get bar graph of all End hour\n",
    "startdayss.plot(kind='bar', figsize=(10,6), stacked=False, title='Day 2016')\n",
    "pp.show()\n"
   ]
  },
  {
   "cell_type": "code",
   "execution_count": 26,
   "metadata": {},
   "outputs": [
    {
     "data": {
      "image/png": "[encoded data removed]",
      "text/plain": [
       "<matplotlib.figure.Figure at 0x13085390>"
      ]
     },
     "metadata": {},
     "output_type": "display_data"
    }
   ],
   "source": [
    "#see which day of the month have most trips\n",
    "enddayss = df.groupby('End day').sum()\n",
    "enddayss = enddayss.drop(['Duration', 'Start station number', 'End station number', 'End hour', 'Start day', 'Start Year', 'Start hour', 'ENDDayofweek', 'Start Month', 'StartDayofweek','End Year', 'End Month', 'StartDayofweek'], axis=1)\n",
    "#get bar graph of all End hour\n",
    "enddayss.plot(kind='bar', figsize=(10,6), stacked=False, title='Day 2016')\n",
    "pp.show()\n"
   ]
  },
  {
   "cell_type": "code",
   "execution_count": 27,
   "metadata": {},
   "outputs": [
    {
     "data": {
      "text/html": [
       "<div>\n",
       "<style>\n",
       "    .dataframe thead tr:only-child th {\n",
       "        text-align: right;\n",
       "    }\n",
       "\n",
       "    .dataframe thead th {\n",
       "        text-align: left;\n",
       "    }\n",
       "\n",
       "    .dataframe tbody tr th {\n",
       "        vertical-align: top;\n",
       "    }\n",
       "</style>\n",
       "<table border=\"1\" class=\"dataframe\">\n",
       "  <thead>\n",
       "    <tr style=\"text-align: right;\">\n",
       "      <th></th>\n",
       "      <th>Duration</th>\n",
       "      <th>Start date</th>\n",
       "      <th>End date</th>\n",
       "      <th>Start station number</th>\n",
       "      <th>Start station</th>\n",
       "      <th>End station number</th>\n",
       "      <th>End station</th>\n",
       "      <th>Bike number</th>\n",
       "      <th>Member type</th>\n",
       "      <th>Trip count</th>\n",
       "      <th>Start Year</th>\n",
       "      <th>Start Month</th>\n",
       "      <th>StartDayofweek</th>\n",
       "      <th>Start hour</th>\n",
       "      <th>Start day</th>\n",
       "      <th>End Year</th>\n",
       "      <th>End Month</th>\n",
       "      <th>ENDDayofweek</th>\n",
       "      <th>End hour</th>\n",
       "      <th>End day</th>\n",
       "    </tr>\n",
       "  </thead>\n",
       "  <tbody>\n",
       "    <tr>\n",
       "      <th>490282</th>\n",
       "      <td>86357</td>\n",
       "      <td>2016-05-24 17:42:33</td>\n",
       "      <td>2016-05-25 17:41:50</td>\n",
       "      <td>31240</td>\n",
       "      <td>Ohio Dr &amp; West Basin Dr SW / MLK &amp; FDR Memorials</td>\n",
       "      <td>31247</td>\n",
       "      <td>Jefferson Dr &amp; 14th St SW</td>\n",
       "      <td>W22444</td>\n",
       "      <td>Casual</td>\n",
       "      <td>1</td>\n",
       "      <td>2016</td>\n",
       "      <td>5</td>\n",
       "      <td>1</td>\n",
       "      <td>17</td>\n",
       "      <td>24</td>\n",
       "      <td>2016</td>\n",
       "      <td>5</td>\n",
       "      <td>2</td>\n",
       "      <td>17</td>\n",
       "      <td>25</td>\n",
       "    </tr>\n",
       "  </tbody>\n",
       "</table>\n",
       "</div>"
      ],
      "text/plain": [
       "        Duration          Start date            End date  Start station number                                     Start station  \\\n",
       "490282     86357 2016-05-24 17:42:33 2016-05-25 17:41:50                 31240  Ohio Dr & West Basin Dr SW / MLK & FDR Memorials   \n",
       "\n",
       "        End station number                End station Bike number Member type  Trip count  Start Year  Start Month  StartDayofweek  Start hour  \\\n",
       "490282               31247  Jefferson Dr & 14th St SW      W22444      Casual           1        2016            5               1          17   \n",
       "\n",
       "        Start day  End Year  End Month  ENDDayofweek  End hour  End day  \n",
       "490282         24      2016          5             2        17       25  "
      ]
     },
     "execution_count": 27,
     "metadata": {},
     "output_type": "execute_result"
    }
   ],
   "source": [
    "#seeing the longest trip\n",
    "df.sort_values(by='Duration',ascending=False, na_position='last').head(1)"
   ]
  },
  {
   "cell_type": "code",
   "execution_count": 28,
   "metadata": {},
   "outputs": [
    {
     "data": {
      "text/html": [
       "<div>\n",
       "<style>\n",
       "    .dataframe thead tr:only-child th {\n",
       "        text-align: right;\n",
       "    }\n",
       "\n",
       "    .dataframe thead th {\n",
       "        text-align: left;\n",
       "    }\n",
       "\n",
       "    .dataframe tbody tr th {\n",
       "        vertical-align: top;\n",
       "    }\n",
       "</style>\n",
       "<table border=\"1\" class=\"dataframe\">\n",
       "  <thead>\n",
       "    <tr style=\"text-align: right;\">\n",
       "      <th></th>\n",
       "      <th>Duration</th>\n",
       "      <th>Start date</th>\n",
       "      <th>End date</th>\n",
       "      <th>Start station number</th>\n",
       "      <th>Start station</th>\n",
       "      <th>End station number</th>\n",
       "      <th>End station</th>\n",
       "      <th>Bike number</th>\n",
       "      <th>Member type</th>\n",
       "      <th>Trip count</th>\n",
       "      <th>Start Year</th>\n",
       "      <th>Start Month</th>\n",
       "      <th>StartDayofweek</th>\n",
       "      <th>Start hour</th>\n",
       "      <th>Start day</th>\n",
       "      <th>End Year</th>\n",
       "      <th>End Month</th>\n",
       "      <th>ENDDayofweek</th>\n",
       "      <th>End hour</th>\n",
       "      <th>End day</th>\n",
       "    </tr>\n",
       "  </thead>\n",
       "  <tbody>\n",
       "    <tr>\n",
       "      <th>645380</th>\n",
       "      <td>60</td>\n",
       "      <td>2016-12-07 08:42:16</td>\n",
       "      <td>2016-12-07 08:43:17</td>\n",
       "      <td>31111</td>\n",
       "      <td>10th &amp; U St NW</td>\n",
       "      <td>31268</td>\n",
       "      <td>12th &amp; U St NW</td>\n",
       "      <td>W21964</td>\n",
       "      <td>Member</td>\n",
       "      <td>1</td>\n",
       "      <td>2016</td>\n",
       "      <td>12</td>\n",
       "      <td>2</td>\n",
       "      <td>8</td>\n",
       "      <td>7</td>\n",
       "      <td>2016</td>\n",
       "      <td>12</td>\n",
       "      <td>2</td>\n",
       "      <td>8</td>\n",
       "      <td>7</td>\n",
       "    </tr>\n",
       "  </tbody>\n",
       "</table>\n",
       "</div>"
      ],
      "text/plain": [
       "        Duration          Start date            End date  Start station number   Start station  End station number     End station Bike number  \\\n",
       "645380        60 2016-12-07 08:42:16 2016-12-07 08:43:17                 31111  10th & U St NW               31268  12th & U St NW      W21964   \n",
       "\n",
       "       Member type  Trip count  Start Year  Start Month  StartDayofweek  Start hour  Start day  End Year  End Month  ENDDayofweek  End hour  End day  \n",
       "645380      Member           1        2016           12               2           8          7      2016         12             2         8        7  "
      ]
     },
     "execution_count": 28,
     "metadata": {},
     "output_type": "execute_result"
    }
   ],
   "source": [
    "#seeing the longest trip\n",
    "df.sort_values(by='Duration',ascending=True, na_position='last').head(1)"
   ]
  },
  {
   "cell_type": "code",
   "execution_count": 29,
   "metadata": {},
   "outputs": [
    {
     "data": {
      "text/html": [
       "<div>\n",
       "<style>\n",
       "    .dataframe thead tr:only-child th {\n",
       "        text-align: right;\n",
       "    }\n",
       "\n",
       "    .dataframe thead th {\n",
       "        text-align: left;\n",
       "    }\n",
       "\n",
       "    .dataframe tbody tr th {\n",
       "        vertical-align: top;\n",
       "    }\n",
       "</style>\n",
       "<table border=\"1\" class=\"dataframe\">\n",
       "  <thead>\n",
       "    <tr style=\"text-align: right;\">\n",
       "      <th></th>\n",
       "      <th>Duration</th>\n",
       "      <th>Start station number</th>\n",
       "      <th>End station number</th>\n",
       "      <th>Trip count</th>\n",
       "      <th>Start Month</th>\n",
       "      <th>StartDayofweek</th>\n",
       "      <th>Start hour</th>\n",
       "      <th>Start day</th>\n",
       "      <th>End Year</th>\n",
       "      <th>End Month</th>\n",
       "      <th>ENDDayofweek</th>\n",
       "      <th>End hour</th>\n",
       "      <th>End day</th>\n",
       "    </tr>\n",
       "    <tr>\n",
       "      <th>Start Year</th>\n",
       "      <th></th>\n",
       "      <th></th>\n",
       "      <th></th>\n",
       "      <th></th>\n",
       "      <th></th>\n",
       "      <th></th>\n",
       "      <th></th>\n",
       "      <th></th>\n",
       "      <th></th>\n",
       "      <th></th>\n",
       "      <th></th>\n",
       "      <th></th>\n",
       "      <th></th>\n",
       "    </tr>\n",
       "  </thead>\n",
       "  <tbody>\n",
       "    <tr>\n",
       "      <th>2016</th>\n",
       "      <td>1149.812143</td>\n",
       "      <td>31309.198912</td>\n",
       "      <td>31310.118306</td>\n",
       "      <td>1.0</td>\n",
       "      <td>6.865643</td>\n",
       "      <td>2.926846</td>\n",
       "      <td>13.944934</td>\n",
       "      <td>15.570014</td>\n",
       "      <td>2016.000005</td>\n",
       "      <td>6.865682</td>\n",
       "      <td>2.927354</td>\n",
       "      <td>14.163308</td>\n",
       "      <td>15.57087</td>\n",
       "    </tr>\n",
       "  </tbody>\n",
       "</table>\n",
       "</div>"
      ],
      "text/plain": [
       "               Duration  Start station number  End station number  Trip count  Start Month  StartDayofweek  Start hour  Start day     End Year  \\\n",
       "Start Year                                                                                                                                       \n",
       "2016        1149.812143          31309.198912        31310.118306         1.0     6.865643        2.926846   13.944934  15.570014  2016.000005   \n",
       "\n",
       "            End Month  ENDDayofweek   End hour   End day  \n",
       "Start Year                                                \n",
       "2016         6.865682      2.927354  14.163308  15.57087  "
      ]
     },
     "execution_count": 29,
     "metadata": {},
     "output_type": "execute_result"
    }
   ],
   "source": [
    "#find average duration\n",
    "duration = df.groupby('Start Year').mean()\n",
    "duration"
   ]
  },
  {
   "cell_type": "code",
   "execution_count": 30,
   "metadata": {},
   "outputs": [
    {
     "name": "stderr",
     "output_type": "stream",
     "text": [
      "C:\\Anaconda3\\lib\\site-packages\\ipykernel_launcher.py:4: DeprecationWarning: \n",
      ".ix is deprecated. Please use\n",
      ".loc for label based indexing or\n",
      ".iloc for positional indexing\n",
      "\n",
      "See the documentation here:\n",
      "http://pandas.pydata.org/pandas-docs/stable/indexing.html#deprecate_ix\n",
      "  after removing the cwd from sys.path.\n"
     ]
    }
   ],
   "source": [
    "#subset to weekday only information\n",
    "#o=monday and 6=sunday\n",
    "#this is 0-4\n",
    "weekdaysonly = df.ix[df['StartDayofweek']<5]"
   ]
  },
  {
   "cell_type": "code",
   "execution_count": 31,
   "metadata": {},
   "outputs": [
    {
     "data": {
      "text/html": [
       "<div>\n",
       "<style>\n",
       "    .dataframe thead tr:only-child th {\n",
       "        text-align: right;\n",
       "    }\n",
       "\n",
       "    .dataframe thead th {\n",
       "        text-align: left;\n",
       "    }\n",
       "\n",
       "    .dataframe tbody tr th {\n",
       "        vertical-align: top;\n",
       "    }\n",
       "</style>\n",
       "<table border=\"1\" class=\"dataframe\">\n",
       "  <thead>\n",
       "    <tr style=\"text-align: right;\">\n",
       "      <th></th>\n",
       "      <th>Duration</th>\n",
       "      <th>Start date</th>\n",
       "      <th>End date</th>\n",
       "      <th>Start station number</th>\n",
       "      <th>Start station</th>\n",
       "      <th>End station number</th>\n",
       "      <th>End station</th>\n",
       "      <th>Bike number</th>\n",
       "      <th>Member type</th>\n",
       "      <th>Trip count</th>\n",
       "      <th>Start Year</th>\n",
       "      <th>Start Month</th>\n",
       "      <th>StartDayofweek</th>\n",
       "      <th>Start hour</th>\n",
       "      <th>Start day</th>\n",
       "      <th>End Year</th>\n",
       "      <th>End Month</th>\n",
       "      <th>ENDDayofweek</th>\n",
       "      <th>End hour</th>\n",
       "      <th>End day</th>\n",
       "    </tr>\n",
       "  </thead>\n",
       "  <tbody>\n",
       "    <tr>\n",
       "      <th>0</th>\n",
       "      <td>166</td>\n",
       "      <td>2016-01-01 00:06:58</td>\n",
       "      <td>2016-01-01 00:09:44</td>\n",
       "      <td>31102</td>\n",
       "      <td>11th &amp; Kenyon St NW</td>\n",
       "      <td>31105</td>\n",
       "      <td>14th &amp; Harvard St NW</td>\n",
       "      <td>W01346</td>\n",
       "      <td>Member</td>\n",
       "      <td>1</td>\n",
       "      <td>2016</td>\n",
       "      <td>1</td>\n",
       "      <td>4</td>\n",
       "      <td>0</td>\n",
       "      <td>1</td>\n",
       "      <td>2016</td>\n",
       "      <td>1</td>\n",
       "      <td>4</td>\n",
       "      <td>0</td>\n",
       "      <td>1</td>\n",
       "    </tr>\n",
       "    <tr>\n",
       "      <th>1</th>\n",
       "      <td>448</td>\n",
       "      <td>2016-01-01 00:10:20</td>\n",
       "      <td>2016-01-01 00:17:48</td>\n",
       "      <td>32039</td>\n",
       "      <td>Old Georgetown Rd &amp; Southwick St</td>\n",
       "      <td>32002</td>\n",
       "      <td>Bethesda Ave &amp; Arlington Rd</td>\n",
       "      <td>W22202</td>\n",
       "      <td>Member</td>\n",
       "      <td>1</td>\n",
       "      <td>2016</td>\n",
       "      <td>1</td>\n",
       "      <td>4</td>\n",
       "      <td>0</td>\n",
       "      <td>1</td>\n",
       "      <td>2016</td>\n",
       "      <td>1</td>\n",
       "      <td>4</td>\n",
       "      <td>0</td>\n",
       "      <td>1</td>\n",
       "    </tr>\n",
       "    <tr>\n",
       "      <th>2</th>\n",
       "      <td>715</td>\n",
       "      <td>2016-01-01 00:13:52</td>\n",
       "      <td>2016-01-01 00:25:48</td>\n",
       "      <td>31222</td>\n",
       "      <td>New York Ave &amp; 15th St NW</td>\n",
       "      <td>31214</td>\n",
       "      <td>17th &amp; Corcoran St NW</td>\n",
       "      <td>W21427</td>\n",
       "      <td>Member</td>\n",
       "      <td>1</td>\n",
       "      <td>2016</td>\n",
       "      <td>1</td>\n",
       "      <td>4</td>\n",
       "      <td>0</td>\n",
       "      <td>1</td>\n",
       "      <td>2016</td>\n",
       "      <td>1</td>\n",
       "      <td>4</td>\n",
       "      <td>0</td>\n",
       "      <td>1</td>\n",
       "    </tr>\n",
       "    <tr>\n",
       "      <th>3</th>\n",
       "      <td>213</td>\n",
       "      <td>2016-01-01 00:15:29</td>\n",
       "      <td>2016-01-01 00:19:03</td>\n",
       "      <td>31506</td>\n",
       "      <td>1st &amp; Rhode Island Ave NW</td>\n",
       "      <td>31509</td>\n",
       "      <td>New Jersey Ave &amp; R St NW</td>\n",
       "      <td>W01294</td>\n",
       "      <td>Member</td>\n",
       "      <td>1</td>\n",
       "      <td>2016</td>\n",
       "      <td>1</td>\n",
       "      <td>4</td>\n",
       "      <td>0</td>\n",
       "      <td>1</td>\n",
       "      <td>2016</td>\n",
       "      <td>1</td>\n",
       "      <td>4</td>\n",
       "      <td>0</td>\n",
       "      <td>1</td>\n",
       "    </tr>\n",
       "    <tr>\n",
       "      <th>4</th>\n",
       "      <td>872</td>\n",
       "      <td>2016-01-01 00:16:16</td>\n",
       "      <td>2016-01-01 00:30:49</td>\n",
       "      <td>31041</td>\n",
       "      <td>Prince St &amp; Union St</td>\n",
       "      <td>31048</td>\n",
       "      <td>King St Metro South</td>\n",
       "      <td>W22058</td>\n",
       "      <td>Member</td>\n",
       "      <td>1</td>\n",
       "      <td>2016</td>\n",
       "      <td>1</td>\n",
       "      <td>4</td>\n",
       "      <td>0</td>\n",
       "      <td>1</td>\n",
       "      <td>2016</td>\n",
       "      <td>1</td>\n",
       "      <td>4</td>\n",
       "      <td>0</td>\n",
       "      <td>1</td>\n",
       "    </tr>\n",
       "  </tbody>\n",
       "</table>\n",
       "</div>"
      ],
      "text/plain": [
       "   Duration          Start date            End date  Start station number                     Start station  End station number  \\\n",
       "0       166 2016-01-01 00:06:58 2016-01-01 00:09:44                 31102               11th & Kenyon St NW               31105   \n",
       "1       448 2016-01-01 00:10:20 2016-01-01 00:17:48                 32039  Old Georgetown Rd & Southwick St               32002   \n",
       "2       715 2016-01-01 00:13:52 2016-01-01 00:25:48                 31222         New York Ave & 15th St NW               31214   \n",
       "3       213 2016-01-01 00:15:29 2016-01-01 00:19:03                 31506         1st & Rhode Island Ave NW               31509   \n",
       "4       872 2016-01-01 00:16:16 2016-01-01 00:30:49                 31041              Prince St & Union St               31048   \n",
       "\n",
       "                   End station Bike number Member type  Trip count  Start Year  Start Month  StartDayofweek  Start hour  Start day  End Year  \\\n",
       "0         14th & Harvard St NW      W01346      Member           1        2016            1               4           0          1      2016   \n",
       "1  Bethesda Ave & Arlington Rd      W22202      Member           1        2016            1               4           0          1      2016   \n",
       "2        17th & Corcoran St NW      W21427      Member           1        2016            1               4           0          1      2016   \n",
       "3     New Jersey Ave & R St NW      W01294      Member           1        2016            1               4           0          1      2016   \n",
       "4          King St Metro South      W22058      Member           1        2016            1               4           0          1      2016   \n",
       "\n",
       "   End Month  ENDDayofweek  End hour  End day  \n",
       "0          1             4         0        1  \n",
       "1          1             4         0        1  \n",
       "2          1             4         0        1  \n",
       "3          1             4         0        1  \n",
       "4          1             4         0        1  "
      ]
     },
     "execution_count": 31,
     "metadata": {},
     "output_type": "execute_result"
    }
   ],
   "source": [
    "weekdaysonly.head(5)"
   ]
  },
  {
   "cell_type": "code",
   "execution_count": 32,
   "metadata": {},
   "outputs": [
    {
     "data": {
      "image/png": "[encoded data removed]",
      "text/plain": [
       "<matplotlib.figure.Figure at 0x1302ae10>"
      ]
     },
     "metadata": {},
     "output_type": "display_data"
    }
   ],
   "source": [
    "#see which hour of the weekdays have most trips\n",
    "hourly = weekdaysonly.groupby('Start hour').sum()\n",
    "hourly = hourly.drop(['Duration', 'Start station number', 'Start day', 'End day', 'End station number', 'Start Year', 'Start Month', 'ENDDayofweek','End Year', 'End Month', 'StartDayofweek', 'End hour'], axis=1)\n",
    "#get bar graph of all Start Stations\n",
    "hourly.plot(kind='bar', figsize=(10,6), stacked=False, title='Weekday Hourly 2016')\n",
    "pp.show()\n"
   ]
  },
  {
   "cell_type": "code",
   "execution_count": 33,
   "metadata": {},
   "outputs": [
    {
     "data": {
      "text/html": [
       "<div>\n",
       "<style>\n",
       "    .dataframe thead tr:only-child th {\n",
       "        text-align: right;\n",
       "    }\n",
       "\n",
       "    .dataframe thead th {\n",
       "        text-align: left;\n",
       "    }\n",
       "\n",
       "    .dataframe tbody tr th {\n",
       "        vertical-align: top;\n",
       "    }\n",
       "</style>\n",
       "<table border=\"1\" class=\"dataframe\">\n",
       "  <thead>\n",
       "    <tr style=\"text-align: right;\">\n",
       "      <th></th>\n",
       "      <th>Duration</th>\n",
       "      <th>Start date</th>\n",
       "      <th>End date</th>\n",
       "      <th>Start station number</th>\n",
       "      <th>Start station</th>\n",
       "      <th>End station number</th>\n",
       "      <th>End station</th>\n",
       "      <th>Bike number</th>\n",
       "      <th>Member type</th>\n",
       "      <th>Trip count</th>\n",
       "      <th>Start Year</th>\n",
       "      <th>Start Month</th>\n",
       "      <th>StartDayofweek</th>\n",
       "      <th>Start hour</th>\n",
       "      <th>Start day</th>\n",
       "      <th>End Year</th>\n",
       "      <th>End Month</th>\n",
       "      <th>ENDDayofweek</th>\n",
       "      <th>End hour</th>\n",
       "      <th>End day</th>\n",
       "    </tr>\n",
       "  </thead>\n",
       "  <tbody>\n",
       "    <tr>\n",
       "      <th>3220</th>\n",
       "      <td>375</td>\n",
       "      <td>2016-01-02 00:03:01</td>\n",
       "      <td>2016-01-02 00:09:16</td>\n",
       "      <td>31602</td>\n",
       "      <td>Park Rd &amp; Holmead Pl NW</td>\n",
       "      <td>31105</td>\n",
       "      <td>14th &amp; Harvard St NW</td>\n",
       "      <td>W01357</td>\n",
       "      <td>Member</td>\n",
       "      <td>1</td>\n",
       "      <td>2016</td>\n",
       "      <td>1</td>\n",
       "      <td>5</td>\n",
       "      <td>0</td>\n",
       "      <td>2</td>\n",
       "      <td>2016</td>\n",
       "      <td>1</td>\n",
       "      <td>5</td>\n",
       "      <td>0</td>\n",
       "      <td>2</td>\n",
       "    </tr>\n",
       "    <tr>\n",
       "      <th>3221</th>\n",
       "      <td>571</td>\n",
       "      <td>2016-01-02 00:03:48</td>\n",
       "      <td>2016-01-02 00:13:19</td>\n",
       "      <td>31228</td>\n",
       "      <td>8th &amp; H St NW</td>\n",
       "      <td>31509</td>\n",
       "      <td>New Jersey Ave &amp; R St NW</td>\n",
       "      <td>W20000</td>\n",
       "      <td>Member</td>\n",
       "      <td>1</td>\n",
       "      <td>2016</td>\n",
       "      <td>1</td>\n",
       "      <td>5</td>\n",
       "      <td>0</td>\n",
       "      <td>2</td>\n",
       "      <td>2016</td>\n",
       "      <td>1</td>\n",
       "      <td>5</td>\n",
       "      <td>0</td>\n",
       "      <td>2</td>\n",
       "    </tr>\n",
       "    <tr>\n",
       "      <th>3222</th>\n",
       "      <td>400</td>\n",
       "      <td>2016-01-02 00:04:21</td>\n",
       "      <td>2016-01-02 00:11:02</td>\n",
       "      <td>31102</td>\n",
       "      <td>11th &amp; Kenyon St NW</td>\n",
       "      <td>31107</td>\n",
       "      <td>Lamont &amp; Mt Pleasant NW</td>\n",
       "      <td>W00539</td>\n",
       "      <td>Member</td>\n",
       "      <td>1</td>\n",
       "      <td>2016</td>\n",
       "      <td>1</td>\n",
       "      <td>5</td>\n",
       "      <td>0</td>\n",
       "      <td>2</td>\n",
       "      <td>2016</td>\n",
       "      <td>1</td>\n",
       "      <td>5</td>\n",
       "      <td>0</td>\n",
       "      <td>2</td>\n",
       "    </tr>\n",
       "    <tr>\n",
       "      <th>3223</th>\n",
       "      <td>391</td>\n",
       "      <td>2016-01-02 00:04:31</td>\n",
       "      <td>2016-01-02 00:11:03</td>\n",
       "      <td>31102</td>\n",
       "      <td>11th &amp; Kenyon St NW</td>\n",
       "      <td>31107</td>\n",
       "      <td>Lamont &amp; Mt Pleasant NW</td>\n",
       "      <td>W01125</td>\n",
       "      <td>Member</td>\n",
       "      <td>1</td>\n",
       "      <td>2016</td>\n",
       "      <td>1</td>\n",
       "      <td>5</td>\n",
       "      <td>0</td>\n",
       "      <td>2</td>\n",
       "      <td>2016</td>\n",
       "      <td>1</td>\n",
       "      <td>5</td>\n",
       "      <td>0</td>\n",
       "      <td>2</td>\n",
       "    </tr>\n",
       "    <tr>\n",
       "      <th>3224</th>\n",
       "      <td>574</td>\n",
       "      <td>2016-01-02 00:05:19</td>\n",
       "      <td>2016-01-02 00:14:53</td>\n",
       "      <td>31200</td>\n",
       "      <td>Massachusetts Ave &amp; Dupont Circle NW</td>\n",
       "      <td>31102</td>\n",
       "      <td>11th &amp; Kenyon St NW</td>\n",
       "      <td>W21125</td>\n",
       "      <td>Member</td>\n",
       "      <td>1</td>\n",
       "      <td>2016</td>\n",
       "      <td>1</td>\n",
       "      <td>5</td>\n",
       "      <td>0</td>\n",
       "      <td>2</td>\n",
       "      <td>2016</td>\n",
       "      <td>1</td>\n",
       "      <td>5</td>\n",
       "      <td>0</td>\n",
       "      <td>2</td>\n",
       "    </tr>\n",
       "  </tbody>\n",
       "</table>\n",
       "</div>"
      ],
      "text/plain": [
       "      Duration          Start date            End date  Start station number                         Start station  End station number  \\\n",
       "3220       375 2016-01-02 00:03:01 2016-01-02 00:09:16                 31602               Park Rd & Holmead Pl NW               31105   \n",
       "3221       571 2016-01-02 00:03:48 2016-01-02 00:13:19                 31228                         8th & H St NW               31509   \n",
       "3222       400 2016-01-02 00:04:21 2016-01-02 00:11:02                 31102                   11th & Kenyon St NW               31107   \n",
       "3223       391 2016-01-02 00:04:31 2016-01-02 00:11:03                 31102                   11th & Kenyon St NW               31107   \n",
       "3224       574 2016-01-02 00:05:19 2016-01-02 00:14:53                 31200  Massachusetts Ave & Dupont Circle NW               31102   \n",
       "\n",
       "                   End station Bike number Member type  Trip count  Start Year  Start Month  StartDayofweek  Start hour  Start day  End Year  \\\n",
       "3220      14th & Harvard St NW      W01357      Member           1        2016            1               5           0          2      2016   \n",
       "3221  New Jersey Ave & R St NW      W20000      Member           1        2016            1               5           0          2      2016   \n",
       "3222   Lamont & Mt Pleasant NW      W00539      Member           1        2016            1               5           0          2      2016   \n",
       "3223   Lamont & Mt Pleasant NW      W01125      Member           1        2016            1               5           0          2      2016   \n",
       "3224       11th & Kenyon St NW      W21125      Member           1        2016            1               5           0          2      2016   \n",
       "\n",
       "      End Month  ENDDayofweek  End hour  End day  \n",
       "3220          1             5         0        2  \n",
       "3221          1             5         0        2  \n",
       "3222          1             5         0        2  \n",
       "3223          1             5         0        2  \n",
       "3224          1             5         0        2  "
      ]
     },
     "execution_count": 33,
     "metadata": {},
     "output_type": "execute_result"
    }
   ],
   "source": [
    "#subset to weekends only information\n",
    "#o=monday and 6=sunday\n",
    "#this is  5 and 6\n",
    "weekendonly = df.ix[df['StartDayofweek'] > 4]\n",
    "weekendonly.head(5)"
   ]
  },
  {
   "cell_type": "code",
   "execution_count": 34,
   "metadata": {},
   "outputs": [
    {
     "data": {
      "image/png": "[encoded data removed]",
      "text/plain": [
       "<matplotlib.figure.Figure at 0xac997b8>"
      ]
     },
     "metadata": {},
     "output_type": "display_data"
    }
   ],
   "source": [
    "#see which hour of the weekdays have most trips\n",
    "weekend = weekendonly.groupby('Start hour').sum()\n",
    "weekend = weekend.drop(['Duration', 'Start station number', 'Start day', 'End day', 'End station number', 'Start Year', 'Start Month', 'ENDDayofweek','End Year', 'End Month', 'StartDayofweek', 'End hour'], axis=1)\n",
    "#get bar graph of all Start Stations\n",
    "weekend.plot(kind='bar', figsize=(10,6), stacked=False, title='Weekend Hourly 2016')\n",
    "pp.show()\n"
   ]
  },
  {
   "cell_type": "code",
   "execution_count": null,
   "metadata": {
    "collapsed": true
   },
   "outputs": [],
   "source": []
  }
 ],
 "metadata": {
  "kernelspec": {
   "display_name": "Python 3",
   "language": "python",
   "name": "python3"
  },
  "language_info": {
   "codemirror_mode": {
    "name": "ipython",
    "version": 3
   },
   "file_extension": ".py",
   "mimetype": "text/x-python",
   "name": "python",
   "nbconvert_exporter": "python",
   "pygments_lexer": "ipython3",
   "version": "3.6.1"
  }
 },
 "nbformat": 4,
 "nbformat_minor": 2
}
