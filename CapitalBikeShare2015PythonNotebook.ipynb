{
 "cells": [
  {
   "cell_type": "code",
   "execution_count": 1,
   "metadata": {
    "collapsed": true
   },
   "outputs": [],
   "source": [
    "#import\n",
    "import pandas as pd\n",
    "import matplotlib.pyplot as pp\n",
    "import numpy as np\n",
    "from datetime import datetime"
   ]
  },
  {
   "cell_type": "code",
   "execution_count": 2,
   "metadata": {
    "collapsed": true
   },
   "outputs": [],
   "source": [
    "#custom settings to make pandas output larger\n",
    "pd.set_option('display.max_rows', 6000)\n",
    "pd.set_option('display.max_columns', 300)\n",
    "pd.set_option('display.width', 150) #default is 80\n"
   ]
  },
  {
   "cell_type": "code",
   "execution_count": 3,
   "metadata": {
    "collapsed": true
   },
   "outputs": [],
   "source": [
    "#load the data\n",
    "Q12017 = pd.read_csv('2017Q1-capitalbikeshare-tripdata.csv', sep=',')\n",
    "Q22017 = pd.read_csv('2017Q2-capitalbikeshare-tripdata.csv', sep=',')\n",
    "Q32017 = pd.read_csv('2017Q3-capitalbikeshare-tripdata.csv', sep=',')\n",
    "Q42017 = pd.read_csv('2017Q4-capitalbikeshare-tripdata.csv', sep=',')\n",
    "H117 = Q12017.append(Q22017)\n",
    "H217 = Q32017.append(Q42017)\n",
    "df = H117.append(H217)\n"
   ]
  },
  {
   "cell_type": "code",
   "execution_count": 4,
   "metadata": {
    "collapsed": true
   },
   "outputs": [],
   "source": [
    "#create a count column for recording the number of trips when grouping another variable\n",
    "df['Trip count'] = 1\n"
   ]
  },
  {
   "cell_type": "code",
   "execution_count": 5,
   "metadata": {
    "collapsed": true
   },
   "outputs": [],
   "source": [
    "#convert to datetime from object\n",
    "df['Start date'] = pd.to_datetime(df['Start date'], format=\"%Y/%m/%d %H:%M:%S\")"
   ]
  },
  {
   "cell_type": "code",
   "execution_count": 6,
   "metadata": {
    "collapsed": true
   },
   "outputs": [],
   "source": [
    "#extract year\n",
    "df['Start Year'] = df['Start date'].dt.year"
   ]
  },
  {
   "cell_type": "code",
   "execution_count": 7,
   "metadata": {
    "collapsed": true
   },
   "outputs": [],
   "source": [
    "#extract month\n",
    "df['Start Month'] = df['Start date'].dt.month"
   ]
  },
  {
   "cell_type": "code",
   "execution_count": 8,
   "metadata": {
    "collapsed": true
   },
   "outputs": [],
   "source": [
    "#find day of the week\n",
    "#0-6, Sunday-Saturday\n",
    "df['StartDayofweek']=df['Start date'].dt.weekday"
   ]
  },
  {
   "cell_type": "code",
   "execution_count": 9,
   "metadata": {
    "collapsed": true
   },
   "outputs": [],
   "source": [
    "#extract hour of the day, goes from 0-23\n",
    "df['Start hour'] = df['Start date'].dt.hour"
   ]
  },
  {
   "cell_type": "code",
   "execution_count": 10,
   "metadata": {
    "collapsed": true
   },
   "outputs": [],
   "source": [
    "#extract day\n",
    "df['Start day'] = df['Start date'].dt.day"
   ]
  },
  {
   "cell_type": "code",
   "execution_count": 11,
   "metadata": {
    "collapsed": true
   },
   "outputs": [],
   "source": [
    "#extract different datemetrics for end time\n",
    "df['End date'] = pd.to_datetime(df['End date'], format=\"%Y/%m/%d %H:%M:%S\")\n",
    "#extract year\n",
    "df['End Year'] = df['End date'].dt.year\n",
    "#extract month\n",
    "df['End Month'] = df['End date'].dt.month\n",
    "#find day of the week\n",
    "#0-6, Sunday-Saturday\n",
    "df['ENDDayofweek']=df['End date'].dt.weekday\n",
    "#extract hour of the day, goes from 0-23\n",
    "df['End hour'] = df['End date'].dt.hour\n",
    "#extract day\n",
    "df['End day'] = df['End date'].dt.day\n"
   ]
  },
  {
   "cell_type": "code",
   "execution_count": 12,
   "metadata": {},
   "outputs": [
    {
     "data": {
      "text/html": [
       "<div>\n",
       "<style>\n",
       "    .dataframe thead tr:only-child th {\n",
       "        text-align: right;\n",
       "    }\n",
       "\n",
       "    .dataframe thead th {\n",
       "        text-align: left;\n",
       "    }\n",
       "\n",
       "    .dataframe tbody tr th {\n",
       "        vertical-align: top;\n",
       "    }\n",
       "</style>\n",
       "<table border=\"1\" class=\"dataframe\">\n",
       "  <thead>\n",
       "    <tr style=\"text-align: right;\">\n",
       "      <th></th>\n",
       "      <th>Duration</th>\n",
       "      <th>Start date</th>\n",
       "      <th>End date</th>\n",
       "      <th>Start station number</th>\n",
       "      <th>Start station</th>\n",
       "      <th>End station number</th>\n",
       "      <th>End station</th>\n",
       "      <th>Bike number</th>\n",
       "      <th>Member type</th>\n",
       "      <th>Trip count</th>\n",
       "      <th>Start Year</th>\n",
       "      <th>Start Month</th>\n",
       "      <th>StartDayofweek</th>\n",
       "      <th>Start hour</th>\n",
       "      <th>Start day</th>\n",
       "      <th>End Year</th>\n",
       "      <th>End Month</th>\n",
       "      <th>ENDDayofweek</th>\n",
       "      <th>End hour</th>\n",
       "      <th>End day</th>\n",
       "    </tr>\n",
       "  </thead>\n",
       "  <tbody>\n",
       "    <tr>\n",
       "      <th>0</th>\n",
       "      <td>221</td>\n",
       "      <td>2017-01-01 00:00:41</td>\n",
       "      <td>2017-01-01 00:04:23</td>\n",
       "      <td>31634</td>\n",
       "      <td>3rd &amp; Tingey St SE</td>\n",
       "      <td>31208</td>\n",
       "      <td>M St &amp; New Jersey Ave SE</td>\n",
       "      <td>W00869</td>\n",
       "      <td>Member</td>\n",
       "      <td>1</td>\n",
       "      <td>2017</td>\n",
       "      <td>1</td>\n",
       "      <td>6</td>\n",
       "      <td>0</td>\n",
       "      <td>1</td>\n",
       "      <td>2017</td>\n",
       "      <td>1</td>\n",
       "      <td>6</td>\n",
       "      <td>0</td>\n",
       "      <td>1</td>\n",
       "    </tr>\n",
       "    <tr>\n",
       "      <th>1</th>\n",
       "      <td>1676</td>\n",
       "      <td>2017-01-01 00:06:53</td>\n",
       "      <td>2017-01-01 00:34:49</td>\n",
       "      <td>31258</td>\n",
       "      <td>Lincoln Memorial</td>\n",
       "      <td>31270</td>\n",
       "      <td>8th &amp; D St NW</td>\n",
       "      <td>W00894</td>\n",
       "      <td>Casual</td>\n",
       "      <td>1</td>\n",
       "      <td>2017</td>\n",
       "      <td>1</td>\n",
       "      <td>6</td>\n",
       "      <td>0</td>\n",
       "      <td>1</td>\n",
       "      <td>2017</td>\n",
       "      <td>1</td>\n",
       "      <td>6</td>\n",
       "      <td>0</td>\n",
       "      <td>1</td>\n",
       "    </tr>\n",
       "    <tr>\n",
       "      <th>2</th>\n",
       "      <td>1356</td>\n",
       "      <td>2017-01-01 00:07:10</td>\n",
       "      <td>2017-01-01 00:29:47</td>\n",
       "      <td>31289</td>\n",
       "      <td>Henry Bacon Dr &amp; Lincoln Memorial Circle NW</td>\n",
       "      <td>31222</td>\n",
       "      <td>New York Ave &amp; 15th St NW</td>\n",
       "      <td>W21945</td>\n",
       "      <td>Casual</td>\n",
       "      <td>1</td>\n",
       "      <td>2017</td>\n",
       "      <td>1</td>\n",
       "      <td>6</td>\n",
       "      <td>0</td>\n",
       "      <td>1</td>\n",
       "      <td>2017</td>\n",
       "      <td>1</td>\n",
       "      <td>6</td>\n",
       "      <td>0</td>\n",
       "      <td>1</td>\n",
       "    </tr>\n",
       "    <tr>\n",
       "      <th>3</th>\n",
       "      <td>1327</td>\n",
       "      <td>2017-01-01 00:07:22</td>\n",
       "      <td>2017-01-01 00:29:30</td>\n",
       "      <td>31289</td>\n",
       "      <td>Henry Bacon Dr &amp; Lincoln Memorial Circle NW</td>\n",
       "      <td>31222</td>\n",
       "      <td>New York Ave &amp; 15th St NW</td>\n",
       "      <td>W20012</td>\n",
       "      <td>Casual</td>\n",
       "      <td>1</td>\n",
       "      <td>2017</td>\n",
       "      <td>1</td>\n",
       "      <td>6</td>\n",
       "      <td>0</td>\n",
       "      <td>1</td>\n",
       "      <td>2017</td>\n",
       "      <td>1</td>\n",
       "      <td>6</td>\n",
       "      <td>0</td>\n",
       "      <td>1</td>\n",
       "    </tr>\n",
       "    <tr>\n",
       "      <th>4</th>\n",
       "      <td>1636</td>\n",
       "      <td>2017-01-01 00:07:36</td>\n",
       "      <td>2017-01-01 00:34:52</td>\n",
       "      <td>31258</td>\n",
       "      <td>Lincoln Memorial</td>\n",
       "      <td>31270</td>\n",
       "      <td>8th &amp; D St NW</td>\n",
       "      <td>W22786</td>\n",
       "      <td>Casual</td>\n",
       "      <td>1</td>\n",
       "      <td>2017</td>\n",
       "      <td>1</td>\n",
       "      <td>6</td>\n",
       "      <td>0</td>\n",
       "      <td>1</td>\n",
       "      <td>2017</td>\n",
       "      <td>1</td>\n",
       "      <td>6</td>\n",
       "      <td>0</td>\n",
       "      <td>1</td>\n",
       "    </tr>\n",
       "  </tbody>\n",
       "</table>\n",
       "</div>"
      ],
      "text/plain": [
       "   Duration          Start date            End date  Start station number                                Start station  End station number  \\\n",
       "0       221 2017-01-01 00:00:41 2017-01-01 00:04:23                 31634                           3rd & Tingey St SE               31208   \n",
       "1      1676 2017-01-01 00:06:53 2017-01-01 00:34:49                 31258                             Lincoln Memorial               31270   \n",
       "2      1356 2017-01-01 00:07:10 2017-01-01 00:29:47                 31289  Henry Bacon Dr & Lincoln Memorial Circle NW               31222   \n",
       "3      1327 2017-01-01 00:07:22 2017-01-01 00:29:30                 31289  Henry Bacon Dr & Lincoln Memorial Circle NW               31222   \n",
       "4      1636 2017-01-01 00:07:36 2017-01-01 00:34:52                 31258                             Lincoln Memorial               31270   \n",
       "\n",
       "                 End station Bike number Member type  Trip count  Start Year  Start Month  StartDayofweek  Start hour  Start day  End Year  \\\n",
       "0   M St & New Jersey Ave SE      W00869      Member           1        2017            1               6           0          1      2017   \n",
       "1              8th & D St NW      W00894      Casual           1        2017            1               6           0          1      2017   \n",
       "2  New York Ave & 15th St NW      W21945      Casual           1        2017            1               6           0          1      2017   \n",
       "3  New York Ave & 15th St NW      W20012      Casual           1        2017            1               6           0          1      2017   \n",
       "4              8th & D St NW      W22786      Casual           1        2017            1               6           0          1      2017   \n",
       "\n",
       "   End Month  ENDDayofweek  End hour  End day  \n",
       "0          1             6         0        1  \n",
       "1          1             6         0        1  \n",
       "2          1             6         0        1  \n",
       "3          1             6         0        1  \n",
       "4          1             6         0        1  "
      ]
     },
     "execution_count": 12,
     "metadata": {},
     "output_type": "execute_result"
    }
   ],
   "source": [
    "df.head(5)"
   ]
  },
  {
   "cell_type": "code",
   "execution_count": 13,
   "metadata": {},
   "outputs": [
    {
     "data": {
      "text/plain": [
       "Duration                         int64\n",
       "Start date              datetime64[ns]\n",
       "End date                datetime64[ns]\n",
       "Start station number             int64\n",
       "Start station                   object\n",
       "End station number               int64\n",
       "End station                     object\n",
       "Bike number                     object\n",
       "Member type                     object\n",
       "Trip count                       int64\n",
       "Start Year                       int64\n",
       "Start Month                      int64\n",
       "StartDayofweek                   int64\n",
       "Start hour                       int64\n",
       "Start day                        int64\n",
       "End Year                         int64\n",
       "End Month                        int64\n",
       "ENDDayofweek                     int64\n",
       "End hour                         int64\n",
       "End day                          int64\n",
       "dtype: object"
      ]
     },
     "execution_count": 13,
     "metadata": {},
     "output_type": "execute_result"
    }
   ],
   "source": [
    "#show data types\n",
    "df.dtypes"
   ]
  },
  {
   "cell_type": "code",
   "execution_count": 14,
   "metadata": {},
   "outputs": [
    {
     "data": {
      "text/plain": [
       "3757777"
      ]
     },
     "execution_count": 14,
     "metadata": {},
     "output_type": "execute_result"
    }
   ],
   "source": [
    "#number of observations\n",
    "len(df.index)"
   ]
  },
  {
   "cell_type": "code",
   "execution_count": 15,
   "metadata": {},
   "outputs": [
    {
     "data": {
      "text/plain": [
       "(3757777, 20)"
      ]
     },
     "execution_count": 15,
     "metadata": {},
     "output_type": "execute_result"
    }
   ],
   "source": [
    "#identify shape of dataframe\n",
    "df.shape"
   ]
  },
  {
   "cell_type": "code",
   "execution_count": 16,
   "metadata": {},
   "outputs": [
    {
     "name": "stderr",
     "output_type": "stream",
     "text": [
      "C:\\Anaconda3\\lib\\site-packages\\ipykernel_launcher.py:4: DeprecationWarning: \n",
      ".ix is deprecated. Please use\n",
      ".loc for label based indexing or\n",
      ".iloc for positional indexing\n",
      "\n",
      "See the documentation here:\n",
      "http://pandas.pydata.org/pandas-docs/stable/indexing.html#deprecate_ix\n",
      "  after removing the cwd from sys.path.\n"
     ]
    },
    {
     "data": {
      "image/png": "[encoded data removed]",
      "text/plain": [
       "<matplotlib.figure.Figure at 0x9401eb8>"
      ]
     },
     "metadata": {},
     "output_type": "display_data"
    }
   ],
   "source": [
    "#grouping the original data frame by member type and then summing other columns for each member type\n",
    "membertype = df.groupby(['Member type']).sum()\n",
    "#calculate the number of trips from members and pass to variable data\n",
    "data = pd.Series(membertype.ix[['Member'],['Trip count']])\n",
    "\n",
    "#calculate the percentage of trips from members commpared to casual\n",
    "#chart it using a pie chart\n",
    "\n",
    "pp.figure(figsize=(5,5))\n",
    "sizes = [data, (df['Trip count']).sum()-data]\n",
    "labels = ['Members', 'Casual']\n",
    "colors = ['Green', 'Red']\n",
    "pp.pie(sizes, colors=colors, autopct='%.0f%%', shadow=True, startangle = 140)\n",
    "pp.legend(labels)\n",
    "pp.show()\n",
    "\n"
   ]
  },
  {
   "cell_type": "code",
   "execution_count": 17,
   "metadata": {},
   "outputs": [
    {
     "data": {
      "image/png": "[encoded data removed]",
      "text/plain": [
       "<matplotlib.figure.Figure at 0xac51668>"
      ]
     },
     "metadata": {},
     "output_type": "display_data"
    }
   ],
   "source": [
    "#see which stations are popular\n",
    "endstations = df.groupby(['End station']).sum()\n",
    "endstation = endstations.drop(['Duration', 'Start station number', 'Start Year', 'End station number', 'End hour', 'Start day', 'Start hour', 'End day', 'ENDDayofweek', 'Start Month', 'StartDayofweek','End Year', 'End Month', 'StartDayofweek'], axis=1)\n",
    "#subset down to top stations\n",
    "subset = endstation.sort_values(by='Trip count',ascending=False).head(15)\n",
    "#get bar graph of all Start Stations\n",
    "subset.plot(kind='bar', figsize=(10,6), stacked=False, title=' End Stations')\n",
    "pp.show()\n"
   ]
  },
  {
   "cell_type": "code",
   "execution_count": 18,
   "metadata": {},
   "outputs": [
    {
     "data": {
      "image/png": "[encoded data removed]",
      "text/plain": [
       "<matplotlib.figure.Figure at 0x13cfc3c8>"
      ]
     },
     "metadata": {},
     "output_type": "display_data"
    }
   ],
   "source": [
    "#see which stations are popular\n",
    "startstations = df.groupby(['Start station']).sum()\n",
    "startstation = startstations.drop(['Duration', 'Start station number', 'Start Year', 'End station number', 'End hour', 'Start day', 'Start hour', 'End day', 'ENDDayofweek', 'Start Month', 'StartDayofweek','End Year', 'End Month', 'StartDayofweek'], axis=1)\n",
    "#subset down to top stations\n",
    "subset = startstation.sort_values(by='Trip count',ascending=False).head(15)\n",
    "#get bar graph of all Start Stations\n",
    "subset.plot(kind='bar', figsize=(10,6), stacked=False, title=' Start Stations')\n",
    "pp.show()\n"
   ]
  },
  {
   "cell_type": "code",
   "execution_count": 17,
   "metadata": {},
   "outputs": [
    {
     "data": {
      "image/png": "[encoded data removed]",
      "text/plain": [
       "<matplotlib.figure.Figure at 0x31f06748>"
      ]
     },
     "metadata": {},
     "output_type": "display_data"
    }
   ],
   "source": [
    "#see which months have most trips\n",
    "startmonthss = df.groupby('Start Month').sum()\n",
    "startmonthss = startmonthss.drop(['Duration', 'Start station number', 'End station number', 'Start day', 'End day', 'Start Year', 'StartDayofweek', 'Start hour', 'End Year', 'End Month', 'ENDDayofweek', 'End hour'], axis=1)\n",
    "#get bar graph of all Start Stations\n",
    "startmonthss.plot(kind='bar', figsize=(10,6), stacked=False, title='Months 2017')\n",
    "pp.show()\n"
   ]
  },
  {
   "cell_type": "code",
   "execution_count": 20,
   "metadata": {},
   "outputs": [
    {
     "data": {
      "image/png": "[encoded data removed]",
      "text/plain": [
       "<matplotlib.figure.Figure at 0x13cc4fd0>"
      ]
     },
     "metadata": {},
     "output_type": "display_data"
    }
   ],
   "source": [
    "#see which months have most trips\n",
    "endmonthss = df.groupby('End Month').sum()\n",
    "endmonthss = endmonthss.drop(['Duration', 'Start station number', 'End station number', 'Start day', 'End day', 'Start Year', 'StartDayofweek', 'Start hour', 'End Year', 'Start Month', 'ENDDayofweek', 'End hour'], axis=1)\n",
    "#get bar graph of all Start Stations\n",
    "endmonthss.plot(kind='bar', figsize=(10,6), stacked=False, title='Months 2017')\n",
    "pp.show()\n"
   ]
  },
  {
   "cell_type": "code",
   "execution_count": 21,
   "metadata": {},
   "outputs": [
    {
     "data": {
      "image/png": "[encoded data removed]",
      "text/plain": [
       "<matplotlib.figure.Figure at 0x3fe68da0>"
      ]
     },
     "metadata": {},
     "output_type": "display_data"
    }
   ],
   "source": [
    "#see which day of the week have most trips\n",
    "startdayss = df.groupby('StartDayofweek').sum()\n",
    "startdayss = startdayss.drop(['Duration', 'Start station number', 'End station number', 'Start day', 'End day', 'Start Year', 'Start Month', 'Start hour', 'End Year', 'End Month', 'ENDDayofweek', 'End hour'], axis=1)\n",
    "#get bar graph of all Start Stations\n",
    "startdayss.plot(kind='bar', figsize=(10,6), stacked=False, title='Weekday 2017')\n",
    "pp.show()\n"
   ]
  },
  {
   "cell_type": "code",
   "execution_count": 22,
   "metadata": {},
   "outputs": [
    {
     "data": {
      "image/png": "[encoded data removed]",
      "text/plain": [
       "<matplotlib.figure.Figure at 0x40309fd0>"
      ]
     },
     "metadata": {},
     "output_type": "display_data"
    }
   ],
   "source": [
    "#see which day of the week have most trips\n",
    "enddayss = df.groupby('ENDDayofweek').sum()\n",
    "enddayss = enddayss.drop(['Duration', 'Start station number', 'End station number', 'Start day', 'End day', 'Start Year', 'Start Month', 'Start hour', 'End Year', 'End Month', 'StartDayofweek', 'End hour'], axis=1)\n",
    "#get bar graph of all Start Stations\n",
    "enddayss.plot(kind='bar', figsize=(10,6), stacked=False, title='Weekday 2017')\n",
    "pp.show()\n"
   ]
  },
  {
   "cell_type": "code",
   "execution_count": 23,
   "metadata": {},
   "outputs": [
    {
     "data": {
      "image/png": "[encoded data removed]",
      "text/plain": [
       "<matplotlib.figure.Figure at 0x40399a20>"
      ]
     },
     "metadata": {},
     "output_type": "display_data"
    }
   ],
   "source": [
    "#see which hour of the week have most trips\n",
    "starthourss = df.groupby('Start hour').sum()\n",
    "starthourss = starthourss.drop(['Duration', 'Start station number', 'Start day', 'End day', 'End station number', 'Start Year', 'Start Month', 'ENDDayofweek','End Year', 'End Month', 'StartDayofweek', 'End hour'], axis=1)\n",
    "#get bar graph of all Start Stations\n",
    "starthourss.plot(kind='bar', figsize=(10,6), stacked=False, title='Hours 2017')\n",
    "pp.show()\n"
   ]
  },
  {
   "cell_type": "code",
   "execution_count": 24,
   "metadata": {},
   "outputs": [
    {
     "data": {
      "image/png": "[encoded data removed]",
      "text/plain": [
       "<matplotlib.figure.Figure at 0x4031c4a8>"
      ]
     },
     "metadata": {},
     "output_type": "display_data"
    }
   ],
   "source": [
    "#see which hour of the week have most trips\n",
    "endhourss = df.groupby('End hour').sum()\n",
    "endhourss = endhourss.drop(['Duration', 'Start station number', 'End station number', 'Start day', 'End day', 'Start Year', 'Start hour', 'ENDDayofweek', 'Start Month', 'StartDayofweek','End Year', 'End Month', 'StartDayofweek'], axis=1)\n",
    "#get bar graph of all End hour\n",
    "endhourss.plot(kind='bar', figsize=(10,6), stacked=False, title='Hours 2017')\n",
    "pp.show()\n"
   ]
  },
  {
   "cell_type": "code",
   "execution_count": 25,
   "metadata": {},
   "outputs": [
    {
     "data": {
      "image/png": "[encoded data removed]",
      "text/plain": [
       "<matplotlib.figure.Figure at 0xac519b0>"
      ]
     },
     "metadata": {},
     "output_type": "display_data"
    }
   ],
   "source": [
    "#see which day of the month have most trips\n",
    "startdayss = df.groupby('Start day').sum()\n",
    "startdayss = startdayss.drop(['Duration', 'Start station number', 'End station number', 'End hour', 'End day', 'Start Year', 'Start hour', 'ENDDayofweek', 'Start Month', 'StartDayofweek','End Year', 'End Month', 'StartDayofweek'], axis=1)\n",
    "#get bar graph of all End hour\n",
    "startdayss.plot(kind='bar', figsize=(10,6), stacked=False, title='Day 2017')\n",
    "pp.show()\n"
   ]
  },
  {
   "cell_type": "code",
   "execution_count": 26,
   "metadata": {},
   "outputs": [
    {
     "data": {
      "image/png": "[encoded data removed]",
      "text/plain": [
       "<matplotlib.figure.Figure at 0x21b56a90>"
      ]
     },
     "metadata": {},
     "output_type": "display_data"
    }
   ],
   "source": [
    "#see which day of the month have most trips\n",
    "enddayss = df.groupby('End day').sum()\n",
    "enddayss = enddayss.drop(['Duration', 'Start station number', 'End station number', 'End hour', 'Start day', 'Start Year', 'Start hour', 'ENDDayofweek', 'Start Month', 'StartDayofweek','End Year', 'End Month', 'StartDayofweek'], axis=1)\n",
    "#get bar graph of all End hour\n",
    "enddayss.plot(kind='bar', figsize=(10,6), stacked=False, title='Day 2017')\n",
    "pp.show()\n"
   ]
  },
  {
   "cell_type": "code",
   "execution_count": null,
   "metadata": {},
   "outputs": [
    {
     "data": {
      "text/html": [
       "<div>\n",
       "<style>\n",
       "    .dataframe thead tr:only-child th {\n",
       "        text-align: right;\n",
       "    }\n",
       "\n",
       "    .dataframe thead th {\n",
       "        text-align: left;\n",
       "    }\n",
       "\n",
       "    .dataframe tbody tr th {\n",
       "        vertical-align: top;\n",
       "    }\n",
       "</style>\n",
       "<table border=\"1\" class=\"dataframe\">\n",
       "  <thead>\n",
       "    <tr style=\"text-align: right;\">\n",
       "      <th></th>\n",
       "      <th>Duration</th>\n",
       "      <th>Start date</th>\n",
       "      <th>End date</th>\n",
       "      <th>Start station number</th>\n",
       "      <th>Start station</th>\n",
       "      <th>End station number</th>\n",
       "      <th>End station</th>\n",
       "      <th>Bike number</th>\n",
       "      <th>Member type</th>\n",
       "      <th>Trip count</th>\n",
       "      <th>Start Year</th>\n",
       "      <th>Start Month</th>\n",
       "      <th>StartDayofweek</th>\n",
       "      <th>Start hour</th>\n",
       "      <th>Start day</th>\n",
       "      <th>End Year</th>\n",
       "      <th>End Month</th>\n",
       "      <th>ENDDayofweek</th>\n",
       "      <th>End hour</th>\n",
       "      <th>End day</th>\n",
       "    </tr>\n",
       "  </thead>\n",
       "  <tbody>\n",
       "    <tr>\n",
       "      <th>113793</th>\n",
       "      <td>86394</td>\n",
       "      <td>2017-07-09 17:14:25</td>\n",
       "      <td>2017-07-10 17:14:19</td>\n",
       "      <td>31617</td>\n",
       "      <td>Bladensburg Rd &amp; Benning Rd NE</td>\n",
       "      <td>31617</td>\n",
       "      <td>Bladensburg Rd &amp; Benning Rd NE</td>\n",
       "      <td>W22737</td>\n",
       "      <td>Casual</td>\n",
       "      <td>1</td>\n",
       "      <td>2017</td>\n",
       "      <td>7</td>\n",
       "      <td>6</td>\n",
       "      <td>17</td>\n",
       "      <td>9</td>\n",
       "      <td>2017</td>\n",
       "      <td>7</td>\n",
       "      <td>0</td>\n",
       "      <td>17</td>\n",
       "      <td>10</td>\n",
       "    </tr>\n",
       "  </tbody>\n",
       "</table>\n",
       "</div>"
      ],
      "text/plain": [
       "        Duration          Start date            End date  Start station number                   Start station  End station number  \\\n",
       "113793     86394 2017-07-09 17:14:25 2017-07-10 17:14:19                 31617  Bladensburg Rd & Benning Rd NE               31617   \n",
       "\n",
       "                           End station Bike number Member type  Trip count  Start Year  Start Month  StartDayofweek  Start hour  Start day  \\\n",
       "113793  Bladensburg Rd & Benning Rd NE      W22737      Casual           1        2017            7               6          17          9   \n",
       "\n",
       "        End Year  End Month  ENDDayofweek  End hour  End day  \n",
       "113793      2017          7             0        17       10  "
      ]
     },
     "execution_count": 27,
     "metadata": {},
     "output_type": "execute_result"
    }
   ],
   "source": [
    "#seeing the longest trip\n",
    "df.sort_values(by='Duration',ascending=False, na_position='last').head(1)"
   ]
  },
  {
   "cell_type": "code",
   "execution_count": 25,
   "metadata": {},
   "outputs": [
    {
     "data": {
      "text/html": [
       "<div>\n",
       "<style>\n",
       "    .dataframe thead tr:only-child th {\n",
       "        text-align: right;\n",
       "    }\n",
       "\n",
       "    .dataframe thead th {\n",
       "        text-align: left;\n",
       "    }\n",
       "\n",
       "    .dataframe tbody tr th {\n",
       "        vertical-align: top;\n",
       "    }\n",
       "</style>\n",
       "<table border=\"1\" class=\"dataframe\">\n",
       "  <thead>\n",
       "    <tr style=\"text-align: right;\">\n",
       "      <th></th>\n",
       "      <th>Duration</th>\n",
       "      <th>Start date</th>\n",
       "      <th>End date</th>\n",
       "      <th>Start station number</th>\n",
       "      <th>Start station</th>\n",
       "      <th>End station number</th>\n",
       "      <th>End station</th>\n",
       "      <th>Bike number</th>\n",
       "      <th>Member type</th>\n",
       "      <th>Trip count</th>\n",
       "      <th>Start Year</th>\n",
       "      <th>Start Month</th>\n",
       "      <th>StartDayofweek</th>\n",
       "      <th>Start hour</th>\n",
       "      <th>Start day</th>\n",
       "      <th>End Year</th>\n",
       "      <th>End Month</th>\n",
       "      <th>ENDDayofweek</th>\n",
       "      <th>End hour</th>\n",
       "      <th>End day</th>\n",
       "    </tr>\n",
       "  </thead>\n",
       "  <tbody>\n",
       "    <tr>\n",
       "      <th>603546</th>\n",
       "      <td>60</td>\n",
       "      <td>2017-08-16 18:22:02</td>\n",
       "      <td>2017-08-16 18:23:02</td>\n",
       "      <td>31258</td>\n",
       "      <td>Lincoln Memorial</td>\n",
       "      <td>31258</td>\n",
       "      <td>Lincoln Memorial</td>\n",
       "      <td>W21026</td>\n",
       "      <td>Casual</td>\n",
       "      <td>1</td>\n",
       "      <td>2017</td>\n",
       "      <td>8</td>\n",
       "      <td>2</td>\n",
       "      <td>18</td>\n",
       "      <td>16</td>\n",
       "      <td>2017</td>\n",
       "      <td>8</td>\n",
       "      <td>2</td>\n",
       "      <td>18</td>\n",
       "      <td>16</td>\n",
       "    </tr>\n",
       "  </tbody>\n",
       "</table>\n",
       "</div>"
      ],
      "text/plain": [
       "        Duration          Start date            End date  Start station number     Start station  End station number       End station Bike number  \\\n",
       "603546        60 2017-08-16 18:22:02 2017-08-16 18:23:02                 31258  Lincoln Memorial               31258  Lincoln Memorial      W21026   \n",
       "\n",
       "       Member type  Trip count  Start Year  Start Month  StartDayofweek  Start hour  Start day  End Year  End Month  ENDDayofweek  End hour  End day  \n",
       "603546      Casual           1        2017            8               2          18         16      2017          8             2        18       16  "
      ]
     },
     "execution_count": 25,
     "metadata": {},
     "output_type": "execute_result"
    }
   ],
   "source": [
    "#seeing the longest trip\n",
    "df.sort_values(by='Duration',ascending=True, na_position='last').head(1)"
   ]
  },
  {
   "cell_type": "code",
   "execution_count": 26,
   "metadata": {},
   "outputs": [
    {
     "data": {
      "text/html": [
       "<div>\n",
       "<style>\n",
       "    .dataframe thead tr:only-child th {\n",
       "        text-align: right;\n",
       "    }\n",
       "\n",
       "    .dataframe thead th {\n",
       "        text-align: left;\n",
       "    }\n",
       "\n",
       "    .dataframe tbody tr th {\n",
       "        vertical-align: top;\n",
       "    }\n",
       "</style>\n",
       "<table border=\"1\" class=\"dataframe\">\n",
       "  <thead>\n",
       "    <tr style=\"text-align: right;\">\n",
       "      <th></th>\n",
       "      <th>Duration</th>\n",
       "      <th>Start station number</th>\n",
       "      <th>End station number</th>\n",
       "      <th>Trip count</th>\n",
       "      <th>Start Month</th>\n",
       "      <th>StartDayofweek</th>\n",
       "      <th>Start hour</th>\n",
       "      <th>Start day</th>\n",
       "      <th>End Year</th>\n",
       "      <th>End Month</th>\n",
       "      <th>ENDDayofweek</th>\n",
       "      <th>End hour</th>\n",
       "      <th>End day</th>\n",
       "    </tr>\n",
       "    <tr>\n",
       "      <th>Start Year</th>\n",
       "      <th></th>\n",
       "      <th></th>\n",
       "      <th></th>\n",
       "      <th></th>\n",
       "      <th></th>\n",
       "      <th></th>\n",
       "      <th></th>\n",
       "      <th></th>\n",
       "      <th></th>\n",
       "      <th></th>\n",
       "      <th></th>\n",
       "      <th></th>\n",
       "      <th></th>\n",
       "    </tr>\n",
       "  </thead>\n",
       "  <tbody>\n",
       "    <tr>\n",
       "      <th>2017</th>\n",
       "      <td>1153.367092</td>\n",
       "      <td>31320.430682</td>\n",
       "      <td>31321.127235</td>\n",
       "      <td>1.0</td>\n",
       "      <td>6.707638</td>\n",
       "      <td>2.963784</td>\n",
       "      <td>13.94186</td>\n",
       "      <td>15.727603</td>\n",
       "      <td>2017.000001</td>\n",
       "      <td>6.707745</td>\n",
       "      <td>2.96407</td>\n",
       "      <td>14.162512</td>\n",
       "      <td>15.727857</td>\n",
       "    </tr>\n",
       "  </tbody>\n",
       "</table>\n",
       "</div>"
      ],
      "text/plain": [
       "               Duration  Start station number  End station number  Trip count  Start Month  StartDayofweek  Start hour  Start day     End Year  \\\n",
       "Start Year                                                                                                                                       \n",
       "2017        1153.367092          31320.430682        31321.127235         1.0     6.707638        2.963784    13.94186  15.727603  2017.000001   \n",
       "\n",
       "            End Month  ENDDayofweek   End hour    End day  \n",
       "Start Year                                                 \n",
       "2017         6.707745       2.96407  14.162512  15.727857  "
      ]
     },
     "execution_count": 26,
     "metadata": {},
     "output_type": "execute_result"
    }
   ],
   "source": [
    "#find average duration\n",
    "duration = df.groupby('Start Year').mean()\n",
    "duration"
   ]
  },
  {
   "cell_type": "code",
   "execution_count": 12,
   "metadata": {},
   "outputs": [
    {
     "name": "stderr",
     "output_type": "stream",
     "text": [
      "C:\\Anaconda3\\lib\\site-packages\\ipykernel_launcher.py:4: DeprecationWarning: \n",
      ".ix is deprecated. Please use\n",
      ".loc for label based indexing or\n",
      ".iloc for positional indexing\n",
      "\n",
      "See the documentation here:\n",
      "http://pandas.pydata.org/pandas-docs/stable/indexing.html#deprecate_ix\n",
      "  after removing the cwd from sys.path.\n"
     ]
    },
    {
     "data": {
      "text/html": [
       "<div>\n",
       "<style>\n",
       "    .dataframe thead tr:only-child th {\n",
       "        text-align: right;\n",
       "    }\n",
       "\n",
       "    .dataframe thead th {\n",
       "        text-align: left;\n",
       "    }\n",
       "\n",
       "    .dataframe tbody tr th {\n",
       "        vertical-align: top;\n",
       "    }\n",
       "</style>\n",
       "<table border=\"1\" class=\"dataframe\">\n",
       "  <thead>\n",
       "    <tr style=\"text-align: right;\">\n",
       "      <th></th>\n",
       "      <th>Duration</th>\n",
       "      <th>Start date</th>\n",
       "      <th>End date</th>\n",
       "      <th>Start station number</th>\n",
       "      <th>Start station</th>\n",
       "      <th>End station number</th>\n",
       "      <th>End station</th>\n",
       "      <th>Bike number</th>\n",
       "      <th>Member type</th>\n",
       "      <th>Trip count</th>\n",
       "      <th>Start Year</th>\n",
       "      <th>Start Month</th>\n",
       "      <th>StartDayofweek</th>\n",
       "      <th>Start hour</th>\n",
       "      <th>Start day</th>\n",
       "      <th>End Year</th>\n",
       "      <th>End Month</th>\n",
       "      <th>ENDDayofweek</th>\n",
       "      <th>End hour</th>\n",
       "      <th>End day</th>\n",
       "    </tr>\n",
       "  </thead>\n",
       "  <tbody>\n",
       "    <tr>\n",
       "      <th>4063</th>\n",
       "      <td>5505</td>\n",
       "      <td>2017-01-02 00:00:04</td>\n",
       "      <td>2017-01-02 01:31:49</td>\n",
       "      <td>31209</td>\n",
       "      <td>1st &amp; N St  SE</td>\n",
       "      <td>31209</td>\n",
       "      <td>1st &amp; N St  SE</td>\n",
       "      <td>W22443</td>\n",
       "      <td>Casual</td>\n",
       "      <td>1</td>\n",
       "      <td>2017</td>\n",
       "      <td>1</td>\n",
       "      <td>0</td>\n",
       "      <td>0</td>\n",
       "      <td>2</td>\n",
       "      <td>2017</td>\n",
       "      <td>1</td>\n",
       "      <td>0</td>\n",
       "      <td>1</td>\n",
       "      <td>2</td>\n",
       "    </tr>\n",
       "    <tr>\n",
       "      <th>4064</th>\n",
       "      <td>364</td>\n",
       "      <td>2017-01-02 00:00:35</td>\n",
       "      <td>2017-01-02 00:06:39</td>\n",
       "      <td>31102</td>\n",
       "      <td>11th &amp; Kenyon St NW</td>\n",
       "      <td>31400</td>\n",
       "      <td>Georgia &amp; New Hampshire Ave NW</td>\n",
       "      <td>W22033</td>\n",
       "      <td>Casual</td>\n",
       "      <td>1</td>\n",
       "      <td>2017</td>\n",
       "      <td>1</td>\n",
       "      <td>0</td>\n",
       "      <td>0</td>\n",
       "      <td>2</td>\n",
       "      <td>2017</td>\n",
       "      <td>1</td>\n",
       "      <td>0</td>\n",
       "      <td>0</td>\n",
       "      <td>2</td>\n",
       "    </tr>\n",
       "    <tr>\n",
       "      <th>4065</th>\n",
       "      <td>492</td>\n",
       "      <td>2017-01-02 00:01:09</td>\n",
       "      <td>2017-01-02 00:09:21</td>\n",
       "      <td>31103</td>\n",
       "      <td>16th &amp; Harvard St NW</td>\n",
       "      <td>31110</td>\n",
       "      <td>20th St &amp; Florida Ave NW</td>\n",
       "      <td>W01364</td>\n",
       "      <td>Member</td>\n",
       "      <td>1</td>\n",
       "      <td>2017</td>\n",
       "      <td>1</td>\n",
       "      <td>0</td>\n",
       "      <td>0</td>\n",
       "      <td>2</td>\n",
       "      <td>2017</td>\n",
       "      <td>1</td>\n",
       "      <td>0</td>\n",
       "      <td>0</td>\n",
       "      <td>2</td>\n",
       "    </tr>\n",
       "    <tr>\n",
       "      <th>4066</th>\n",
       "      <td>5314</td>\n",
       "      <td>2017-01-02 00:03:08</td>\n",
       "      <td>2017-01-02 01:31:43</td>\n",
       "      <td>31209</td>\n",
       "      <td>1st &amp; N St  SE</td>\n",
       "      <td>31209</td>\n",
       "      <td>1st &amp; N St  SE</td>\n",
       "      <td>W20940</td>\n",
       "      <td>Casual</td>\n",
       "      <td>1</td>\n",
       "      <td>2017</td>\n",
       "      <td>1</td>\n",
       "      <td>0</td>\n",
       "      <td>0</td>\n",
       "      <td>2</td>\n",
       "      <td>2017</td>\n",
       "      <td>1</td>\n",
       "      <td>0</td>\n",
       "      <td>1</td>\n",
       "      <td>2</td>\n",
       "    </tr>\n",
       "    <tr>\n",
       "      <th>4067</th>\n",
       "      <td>363</td>\n",
       "      <td>2017-01-02 00:03:23</td>\n",
       "      <td>2017-01-02 00:09:27</td>\n",
       "      <td>31103</td>\n",
       "      <td>16th &amp; Harvard St NW</td>\n",
       "      <td>31110</td>\n",
       "      <td>20th St &amp; Florida Ave NW</td>\n",
       "      <td>W20701</td>\n",
       "      <td>Casual</td>\n",
       "      <td>1</td>\n",
       "      <td>2017</td>\n",
       "      <td>1</td>\n",
       "      <td>0</td>\n",
       "      <td>0</td>\n",
       "      <td>2</td>\n",
       "      <td>2017</td>\n",
       "      <td>1</td>\n",
       "      <td>0</td>\n",
       "      <td>0</td>\n",
       "      <td>2</td>\n",
       "    </tr>\n",
       "  </tbody>\n",
       "</table>\n",
       "</div>"
      ],
      "text/plain": [
       "      Duration          Start date            End date  Start station number         Start station  End station number  \\\n",
       "4063      5505 2017-01-02 00:00:04 2017-01-02 01:31:49                 31209        1st & N St  SE               31209   \n",
       "4064       364 2017-01-02 00:00:35 2017-01-02 00:06:39                 31102   11th & Kenyon St NW               31400   \n",
       "4065       492 2017-01-02 00:01:09 2017-01-02 00:09:21                 31103  16th & Harvard St NW               31110   \n",
       "4066      5314 2017-01-02 00:03:08 2017-01-02 01:31:43                 31209        1st & N St  SE               31209   \n",
       "4067       363 2017-01-02 00:03:23 2017-01-02 00:09:27                 31103  16th & Harvard St NW               31110   \n",
       "\n",
       "                         End station Bike number Member type  Trip count  Start Year  Start Month  StartDayofweek  Start hour  Start day  End Year  \\\n",
       "4063                  1st & N St  SE      W22443      Casual           1        2017            1               0           0          2      2017   \n",
       "4064  Georgia & New Hampshire Ave NW      W22033      Casual           1        2017            1               0           0          2      2017   \n",
       "4065        20th St & Florida Ave NW      W01364      Member           1        2017            1               0           0          2      2017   \n",
       "4066                  1st & N St  SE      W20940      Casual           1        2017            1               0           0          2      2017   \n",
       "4067        20th St & Florida Ave NW      W20701      Casual           1        2017            1               0           0          2      2017   \n",
       "\n",
       "      End Month  ENDDayofweek  End hour  End day  \n",
       "4063          1             0         1        2  \n",
       "4064          1             0         0        2  \n",
       "4065          1             0         0        2  \n",
       "4066          1             0         1        2  \n",
       "4067          1             0         0        2  "
      ]
     },
     "execution_count": 12,
     "metadata": {},
     "output_type": "execute_result"
    }
   ],
   "source": [
    "#subset to weekday only information\n",
    "#o=monday and 6=sunday\n",
    "#this is 0-4\n",
    "weekdaysonly = df.ix[df['StartDayofweek']<5]\n",
    "weekdaysonly.head(5)"
   ]
  },
  {
   "cell_type": "code",
   "execution_count": 14,
   "metadata": {},
   "outputs": [
    {
     "data": {
      "image/png": "[encoded data removed]",
      "text/plain": [
       "<matplotlib.figure.Figure at 0xac6c0b8>"
      ]
     },
     "metadata": {},
     "output_type": "display_data"
    }
   ],
   "source": [
    "#see which hour of the weekdays have most trips\n",
    "hourly = weekdaysonly.groupby('Start hour').sum()\n",
    "hourly = hourly.drop(['Duration', 'Start station number', 'Start day', 'End day', 'End station number', 'Start Year', 'Start Month', 'ENDDayofweek','End Year', 'End Month', 'StartDayofweek', 'End hour'], axis=1)\n",
    "#get bar graph of all Start Stations\n",
    "hourly.plot(kind='bar', figsize=(10,6), stacked=False, title='Weekday Hourly 2017')\n",
    "pp.show()\n"
   ]
  },
  {
   "cell_type": "code",
   "execution_count": 15,
   "metadata": {},
   "outputs": [
    {
     "data": {
      "text/html": [
       "<div>\n",
       "<style>\n",
       "    .dataframe thead tr:only-child th {\n",
       "        text-align: right;\n",
       "    }\n",
       "\n",
       "    .dataframe thead th {\n",
       "        text-align: left;\n",
       "    }\n",
       "\n",
       "    .dataframe tbody tr th {\n",
       "        vertical-align: top;\n",
       "    }\n",
       "</style>\n",
       "<table border=\"1\" class=\"dataframe\">\n",
       "  <thead>\n",
       "    <tr style=\"text-align: right;\">\n",
       "      <th></th>\n",
       "      <th>Duration</th>\n",
       "      <th>Start date</th>\n",
       "      <th>End date</th>\n",
       "      <th>Start station number</th>\n",
       "      <th>Start station</th>\n",
       "      <th>End station number</th>\n",
       "      <th>End station</th>\n",
       "      <th>Bike number</th>\n",
       "      <th>Member type</th>\n",
       "      <th>Trip count</th>\n",
       "      <th>Start Year</th>\n",
       "      <th>Start Month</th>\n",
       "      <th>StartDayofweek</th>\n",
       "      <th>Start hour</th>\n",
       "      <th>Start day</th>\n",
       "      <th>End Year</th>\n",
       "      <th>End Month</th>\n",
       "      <th>ENDDayofweek</th>\n",
       "      <th>End hour</th>\n",
       "      <th>End day</th>\n",
       "    </tr>\n",
       "  </thead>\n",
       "  <tbody>\n",
       "    <tr>\n",
       "      <th>0</th>\n",
       "      <td>221</td>\n",
       "      <td>2017-01-01 00:00:41</td>\n",
       "      <td>2017-01-01 00:04:23</td>\n",
       "      <td>31634</td>\n",
       "      <td>3rd &amp; Tingey St SE</td>\n",
       "      <td>31208</td>\n",
       "      <td>M St &amp; New Jersey Ave SE</td>\n",
       "      <td>W00869</td>\n",
       "      <td>Member</td>\n",
       "      <td>1</td>\n",
       "      <td>2017</td>\n",
       "      <td>1</td>\n",
       "      <td>6</td>\n",
       "      <td>0</td>\n",
       "      <td>1</td>\n",
       "      <td>2017</td>\n",
       "      <td>1</td>\n",
       "      <td>6</td>\n",
       "      <td>0</td>\n",
       "      <td>1</td>\n",
       "    </tr>\n",
       "    <tr>\n",
       "      <th>1</th>\n",
       "      <td>1676</td>\n",
       "      <td>2017-01-01 00:06:53</td>\n",
       "      <td>2017-01-01 00:34:49</td>\n",
       "      <td>31258</td>\n",
       "      <td>Lincoln Memorial</td>\n",
       "      <td>31270</td>\n",
       "      <td>8th &amp; D St NW</td>\n",
       "      <td>W00894</td>\n",
       "      <td>Casual</td>\n",
       "      <td>1</td>\n",
       "      <td>2017</td>\n",
       "      <td>1</td>\n",
       "      <td>6</td>\n",
       "      <td>0</td>\n",
       "      <td>1</td>\n",
       "      <td>2017</td>\n",
       "      <td>1</td>\n",
       "      <td>6</td>\n",
       "      <td>0</td>\n",
       "      <td>1</td>\n",
       "    </tr>\n",
       "    <tr>\n",
       "      <th>2</th>\n",
       "      <td>1356</td>\n",
       "      <td>2017-01-01 00:07:10</td>\n",
       "      <td>2017-01-01 00:29:47</td>\n",
       "      <td>31289</td>\n",
       "      <td>Henry Bacon Dr &amp; Lincoln Memorial Circle NW</td>\n",
       "      <td>31222</td>\n",
       "      <td>New York Ave &amp; 15th St NW</td>\n",
       "      <td>W21945</td>\n",
       "      <td>Casual</td>\n",
       "      <td>1</td>\n",
       "      <td>2017</td>\n",
       "      <td>1</td>\n",
       "      <td>6</td>\n",
       "      <td>0</td>\n",
       "      <td>1</td>\n",
       "      <td>2017</td>\n",
       "      <td>1</td>\n",
       "      <td>6</td>\n",
       "      <td>0</td>\n",
       "      <td>1</td>\n",
       "    </tr>\n",
       "    <tr>\n",
       "      <th>3</th>\n",
       "      <td>1327</td>\n",
       "      <td>2017-01-01 00:07:22</td>\n",
       "      <td>2017-01-01 00:29:30</td>\n",
       "      <td>31289</td>\n",
       "      <td>Henry Bacon Dr &amp; Lincoln Memorial Circle NW</td>\n",
       "      <td>31222</td>\n",
       "      <td>New York Ave &amp; 15th St NW</td>\n",
       "      <td>W20012</td>\n",
       "      <td>Casual</td>\n",
       "      <td>1</td>\n",
       "      <td>2017</td>\n",
       "      <td>1</td>\n",
       "      <td>6</td>\n",
       "      <td>0</td>\n",
       "      <td>1</td>\n",
       "      <td>2017</td>\n",
       "      <td>1</td>\n",
       "      <td>6</td>\n",
       "      <td>0</td>\n",
       "      <td>1</td>\n",
       "    </tr>\n",
       "    <tr>\n",
       "      <th>4</th>\n",
       "      <td>1636</td>\n",
       "      <td>2017-01-01 00:07:36</td>\n",
       "      <td>2017-01-01 00:34:52</td>\n",
       "      <td>31258</td>\n",
       "      <td>Lincoln Memorial</td>\n",
       "      <td>31270</td>\n",
       "      <td>8th &amp; D St NW</td>\n",
       "      <td>W22786</td>\n",
       "      <td>Casual</td>\n",
       "      <td>1</td>\n",
       "      <td>2017</td>\n",
       "      <td>1</td>\n",
       "      <td>6</td>\n",
       "      <td>0</td>\n",
       "      <td>1</td>\n",
       "      <td>2017</td>\n",
       "      <td>1</td>\n",
       "      <td>6</td>\n",
       "      <td>0</td>\n",
       "      <td>1</td>\n",
       "    </tr>\n",
       "  </tbody>\n",
       "</table>\n",
       "</div>"
      ],
      "text/plain": [
       "   Duration          Start date            End date  Start station number                                Start station  End station number  \\\n",
       "0       221 2017-01-01 00:00:41 2017-01-01 00:04:23                 31634                           3rd & Tingey St SE               31208   \n",
       "1      1676 2017-01-01 00:06:53 2017-01-01 00:34:49                 31258                             Lincoln Memorial               31270   \n",
       "2      1356 2017-01-01 00:07:10 2017-01-01 00:29:47                 31289  Henry Bacon Dr & Lincoln Memorial Circle NW               31222   \n",
       "3      1327 2017-01-01 00:07:22 2017-01-01 00:29:30                 31289  Henry Bacon Dr & Lincoln Memorial Circle NW               31222   \n",
       "4      1636 2017-01-01 00:07:36 2017-01-01 00:34:52                 31258                             Lincoln Memorial               31270   \n",
       "\n",
       "                 End station Bike number Member type  Trip count  Start Year  Start Month  StartDayofweek  Start hour  Start day  End Year  \\\n",
       "0   M St & New Jersey Ave SE      W00869      Member           1        2017            1               6           0          1      2017   \n",
       "1              8th & D St NW      W00894      Casual           1        2017            1               6           0          1      2017   \n",
       "2  New York Ave & 15th St NW      W21945      Casual           1        2017            1               6           0          1      2017   \n",
       "3  New York Ave & 15th St NW      W20012      Casual           1        2017            1               6           0          1      2017   \n",
       "4              8th & D St NW      W22786      Casual           1        2017            1               6           0          1      2017   \n",
       "\n",
       "   End Month  ENDDayofweek  End hour  End day  \n",
       "0          1             6         0        1  \n",
       "1          1             6         0        1  \n",
       "2          1             6         0        1  \n",
       "3          1             6         0        1  \n",
       "4          1             6         0        1  "
      ]
     },
     "execution_count": 15,
     "metadata": {},
     "output_type": "execute_result"
    }
   ],
   "source": [
    "#subset to weekends only information\n",
    "#o=monday and 6=sunday\n",
    "#this is  5 and 6\n",
    "weekendonly = df.ix[df['StartDayofweek'] > 4]\n",
    "weekendonly.head(5)"
   ]
  },
  {
   "cell_type": "code",
   "execution_count": 16,
   "metadata": {},
   "outputs": [
    {
     "data": {
      "image/png": "[encoded data removed]",
      "text/plain": [
       "<matplotlib.figure.Figure at 0xad3af28>"
      ]
     },
     "metadata": {},
     "output_type": "display_data"
    }
   ],
   "source": [
    "#see which hour of the weekdays have most trips\n",
    "weekend = weekendonly.groupby('Start hour').sum()\n",
    "weekend = weekend.drop(['Duration', 'Start station number', 'Start day', 'End day', 'End station number', 'Start Year', 'Start Month', 'ENDDayofweek','End Year', 'End Month', 'StartDayofweek', 'End hour'], axis=1)\n",
    "#get bar graph of all Start Stations\n",
    "weekend.plot(kind='bar', figsize=(10,6), stacked=False, title='Weekend Hourly 2017')\n",
    "pp.show()\n"
   ]
  },
  {
   "cell_type": "code",
   "execution_count": null,
   "metadata": {
    "collapsed": true
   },
   "outputs": [],
   "source": []
  }
 ],
 "metadata": {
  "kernelspec": {
   "display_name": "Python 3",
   "language": "python",
   "name": "python3"
  },
  "language_info": {
   "codemirror_mode": {
    "name": "ipython",
    "version": 3
   },
   "file_extension": ".py",
   "mimetype": "text/x-python",
   "name": "python",
   "nbconvert_exporter": "python",
   "pygments_lexer": "ipython3",
   "version": "3.6.1"
  }
 },
 "nbformat": 4,
 "nbformat_minor": 2
}
